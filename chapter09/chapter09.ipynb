{
  "cells": [
    {
      "cell_type": "markdown",
      "source": [
        "# Chapter 09 code snippets\r\n",
        "This notebook contains all code snippets from chapter 9."
      ],
      "metadata": {
        "nteract": {
          "transient": {
            "deleting": false
          }
        }
      }
    },
    {
      "cell_type": "markdown",
      "source": [
        "## Training simple sklearn model"
      ],
      "metadata": {
        "nteract": {
          "transient": {
            "deleting": false
          }
        }
      }
    },
    {
      "cell_type": "code",
      "source": [
        "from azureml.core import Workspace\r\n",
        "\r\n",
        "ws = Workspace.from_config()\r\n",
        "diabetes_ds = ws.datasets['diabetes']\r\n",
        "\r\n",
        "training_data, validation_data = diabetes_ds.random_split(percentage = 0.8)\r\n",
        "\r\n",
        "X_train = training_data.drop_columns('target').to_pandas_dataframe()\r\n",
        "y_train = training_data.keep_columns('target').to_pandas_dataframe()\r\n",
        "\r\n",
        "X_validate = validation_data.drop_columns('target').to_pandas_dataframe()\r\n",
        "y_validate = validation_data.keep_columns('target').to_pandas_dataframe()"
      ],
      "outputs": [],
      "execution_count": null,
      "metadata": {
        "collapsed": true,
        "jupyter": {
          "source_hidden": false,
          "outputs_hidden": false
        },
        "nteract": {
          "transient": {
            "deleting": false
          }
        },
        "gather": {
          "logged": 1618753733485
        }
      }
    },
    {
      "cell_type": "code",
      "source": [
        "from sklearn.linear_model import LassoLars\r\n",
        "\r\n",
        "alpha = 0.1\r\n",
        "\r\n",
        "model = LassoLars(alpha=alpha)\r\n",
        "model.fit(X_train, y_train)"
      ],
      "outputs": [],
      "execution_count": null,
      "metadata": {
        "collapsed": true,
        "jupyter": {
          "source_hidden": false,
          "outputs_hidden": false
        },
        "nteract": {
          "transient": {
            "deleting": false
          }
        },
        "gather": {
          "logged": 1616281860570
        }
      }
    },
    {
      "cell_type": "code",
      "source": [
        "from sklearn.metrics import mean_squared_error\r\n",
        "\r\n",
        "predictions = model.predict(X_validate)\r\n",
        "rmse = mean_squared_error(predictions, y_validate, squared = False)\r\n",
        "\r\n",
        "# Range of data using the peak to peak numpy function\r\n",
        "range_y_validate = y_validate.to_numpy().ptp()\r\n",
        "# Normalize dividing by the range of the data\r\n",
        "nrmse = rmse/range_y_validate\r\n",
        "\r\n",
        "print(f\"Normalized Root Mean Squared Error: {nrmse}\")"
      ],
      "outputs": [],
      "execution_count": null,
      "metadata": {
        "collapsed": true,
        "jupyter": {
          "source_hidden": false,
          "outputs_hidden": false
        },
        "nteract": {
          "transient": {
            "deleting": false
          }
        },
        "gather": {
          "logged": 1616281860798
        }
      }
    },
    {
      "cell_type": "code",
      "source": [
        "import os\r\n",
        "import joblib\r\n",
        "\r\n",
        "os.makedirs('./outputs', exist_ok=True)\r\n",
        "\r\n",
        "model_file_name = f'model_{nrmse:.4f}_{alpha:.4f}.pkl'\r\n",
        "joblib.dump(value=model, filename=os.path.join('./outputs/',model_file_name))"
      ],
      "outputs": [],
      "execution_count": null,
      "metadata": {
        "collapsed": true,
        "jupyter": {
          "source_hidden": false,
          "outputs_hidden": false
        },
        "nteract": {
          "transient": {
            "deleting": false
          }
        },
        "gather": {
          "logged": 1616281861026
        }
      }
    },
    {
      "cell_type": "markdown",
      "source": [
        "## Tracking metrics in experiments"
      ],
      "metadata": {
        "nteract": {
          "transient": {
            "deleting": false
          }
        }
      }
    },
    {
      "cell_type": "code",
      "source": [
        "from azureml.core import Workspace, Experiment\r\n",
        "\r\n",
        "ws = Workspace.from_config()\r\n",
        "exp = Experiment(workspace=ws, name=\"chapter09\")"
      ],
      "outputs": [],
      "execution_count": null,
      "metadata": {
        "collapsed": true,
        "jupyter": {
          "source_hidden": false,
          "outputs_hidden": false
        },
        "nteract": {
          "transient": {
            "deleting": false
          }
        },
        "gather": {
          "logged": 1616921071536
        }
      }
    },
    {
      "cell_type": "code",
      "source": [
        "run = exp.start_logging()\r\n",
        "print(run.get_details())"
      ],
      "outputs": [],
      "execution_count": null,
      "metadata": {
        "collapsed": true,
        "jupyter": {
          "source_hidden": false,
          "outputs_hidden": false
        },
        "nteract": {
          "transient": {
            "deleting": false
          }
        },
        "gather": {
          "logged": 1616930445268
        }
      }
    },
    {
      "cell_type": "code",
      "source": [
        "run.log(\"nrmse\", 0.01)\r\n",
        "run.log(name=\"nrmse\", value=0.015, description=\"2nd measure\")"
      ],
      "outputs": [],
      "execution_count": null,
      "metadata": {
        "collapsed": true,
        "jupyter": {
          "source_hidden": false,
          "outputs_hidden": false
        },
        "nteract": {
          "transient": {
            "deleting": false
          }
        },
        "gather": {
          "logged": 1616925572407
        }
      }
    },
    {
      "cell_type": "code",
      "source": [
        "run.log_list(\"accuracies\", [0.5, 0.57, 0.62])"
      ],
      "outputs": [],
      "execution_count": null,
      "metadata": {
        "collapsed": true,
        "jupyter": {
          "source_hidden": false,
          "outputs_hidden": false
        },
        "nteract": {
          "transient": {
            "deleting": false
          }
        },
        "gather": {
          "logged": 1616925773920
        }
      }
    },
    {
      "cell_type": "code",
      "source": [
        "run.log_table(\"table\", {\"x\":[1, 2], \"y\":[0.1, 0.2]})\r\n",
        "run.log_row(\"table\", x=3, y=0.3)"
      ],
      "outputs": [],
      "execution_count": null,
      "metadata": {
        "collapsed": true,
        "jupyter": {
          "source_hidden": false,
          "outputs_hidden": false
        },
        "nteract": {
          "transient": {
            "deleting": false
          }
        },
        "gather": {
          "logged": 1616925589463
        }
      }
    },
    {
      "cell_type": "code",
      "source": [
        "child_run = run.child_run()\r\n",
        "child_run.log(\"child_metric\", 0.01)\r\n",
        "child_run.parent.log(\"metric_from_child\", 0.02)"
      ],
      "outputs": [],
      "execution_count": null,
      "metadata": {
        "collapsed": true,
        "jupyter": {
          "source_hidden": false,
          "outputs_hidden": false
        },
        "nteract": {
          "transient": {
            "deleting": false
          }
        },
        "gather": {
          "logged": 1616930449232
        }
      }
    },
    {
      "cell_type": "code",
      "source": [
        "child_run.cancel()\r\n",
        "run.complete()\r\n",
        "print(run.get_status())"
      ],
      "outputs": [],
      "execution_count": null,
      "metadata": {
        "collapsed": true,
        "jupyter": {
          "source_hidden": false,
          "outputs_hidden": false
        },
        "nteract": {
          "transient": {
            "deleting": false
          }
        },
        "gather": {
          "logged": 1616930453667
        }
      }
    },
    {
      "cell_type": "markdown",
      "source": [
        "### Tracking model evolution"
      ],
      "metadata": {
        "nteract": {
          "transient": {
            "deleting": false
          }
        }
      }
    },
    {
      "cell_type": "code",
      "source": [
        "import shutil\r\n",
        "\r\n",
        "try:\r\n",
        "  shutil.rmtree(\"./outputs\")\r\n",
        "except FileNotFoundError: \r\n",
        "  pass"
      ],
      "outputs": [],
      "execution_count": null,
      "metadata": {
        "collapsed": true,
        "jupyter": {
          "source_hidden": false,
          "outputs_hidden": false
        },
        "nteract": {
          "transient": {
            "deleting": false
          }
        },
        "gather": {
          "logged": 1616933735995
        }
      }
    },
    {
      "cell_type": "code",
      "source": [
        "from sklearn.linear_model import LassoLars\r\n",
        "from sklearn.metrics import mean_squared_error\r\n",
        "\r\n",
        "def train_and_evaluate(alpha, X_t, y_t, X_v, y_v):\r\n",
        "  model = LassoLars(alpha=alpha)\r\n",
        "  model.fit(X_t, y_t)\r\n",
        "  predictions = model.predict(X_v)\r\n",
        "  rmse = mean_squared_error(predictions, y_v, squared = False)\r\n",
        "  range_y_validate = y_v.to_numpy().ptp()\r\n",
        "  nrmse = rmse/range_y_validate\r\n",
        "  print(f\"NRMSE: {nrmse}\")\r\n",
        "  return model, nrmse\r\n",
        "\r\n",
        "trained_model, model_nrmse = train_and_evaluate(0.1, \r\n",
        "                        X_train, y_train,\r\n",
        "                        X_validate, y_validate)"
      ],
      "outputs": [],
      "execution_count": null,
      "metadata": {
        "collapsed": true,
        "jupyter": {
          "source_hidden": false,
          "outputs_hidden": false
        },
        "nteract": {
          "transient": {
            "deleting": false
          }
        },
        "gather": {
          "logged": 1616934834848
        }
      }
    },
    {
      "cell_type": "code",
      "source": [
        "def train_and_evaluate(run, alpha, X_t, y_t, X_v, y_v):\r\n",
        "  model = LassoLars(alpha=alpha)\r\n",
        "  model.fit(X_t, y_t)\r\n",
        "  predictions = model.predict(X_v)\r\n",
        "  rmse = mean_squared_error(predictions, y_v, squared = False)\r\n",
        "  range_y_validate = y_v.to_numpy().ptp()\r\n",
        "  nrmse = rmse/range_y_validate\r\n",
        "  run.log(\"nrmse\", nrmse)\r\n",
        "  run.log_row(\"nrmse over α\", α=alpha, nrmse=nrmse)\r\n",
        "  return model, nrmse"
      ],
      "outputs": [],
      "execution_count": null,
      "metadata": {
        "collapsed": true,
        "jupyter": {
          "source_hidden": false,
          "outputs_hidden": false
        },
        "nteract": {
          "transient": {
            "deleting": false
          }
        },
        "gather": {
          "logged": 1616934842075
        }
      }
    },
    {
      "cell_type": "code",
      "source": [
        "from azureml.core import Workspace, Experiment\r\n",
        "\r\n",
        "ws = Workspace.from_config()\r\n",
        "exp = Experiment(workspace=ws, name=\"chapter09\")\r\n",
        "with exp.start_logging() as run:\r\n",
        "    print(run.get_portal_url())\r\n",
        "    for a in [0.001, 0.01, 0.1, 0.25, 0.5]:\r\n",
        "        train_and_evaluate(run, a, \r\n",
        "                            X_train, y_train,\r\n",
        "                            X_validate, y_validate)"
      ],
      "outputs": [],
      "execution_count": null,
      "metadata": {
        "collapsed": true,
        "jupyter": {
          "source_hidden": false,
          "outputs_hidden": false
        },
        "nteract": {
          "transient": {
            "deleting": false
          }
        },
        "gather": {
          "logged": 1616937604673
        }
      }
    },
    {
      "cell_type": "markdown",
      "source": [
        "### Using MLFlow to track experiments"
      ],
      "metadata": {
        "nteract": {
          "transient": {
            "deleting": false
          }
        }
      }
    },
    {
      "cell_type": "code",
      "source": [
        "from sklearn.linear_model import LassoLars\r\n",
        "from sklearn.metrics import mean_squared_error\r\n",
        "import mlflow\r\n",
        "\r\n",
        "def train_and_evaluate(alpha, X_t, y_t, X_v, y_v):\r\n",
        "  model = LassoLars(alpha=alpha)\r\n",
        "  model.fit(X_t, y_t)\r\n",
        "  predictions = model.predict(X_v)\r\n",
        "  rmse = mean_squared_error(predictions, y_v, squared = False)\r\n",
        "  range_y_validate = y_v.to_numpy().ptp()\r\n",
        "  nrmse = rmse/range_y_validate\r\n",
        "  mlflow.log_metric(\"nrmse\", nrmse)\r\n",
        "  return model, nrmse\r\n",
        "\r\n",
        "mlflow.set_experiment(\"chapter09-mlflow\")\r\n",
        "with mlflow.start_run():\r\n",
        "    mlflow.sklearn.autolog()\r\n",
        "    trained_model, model_nrmse = train_and_evaluate(0.1, \r\n",
        "                                    X_train, y_train,\r\n",
        "                                    X_validate, y_validate)"
      ],
      "outputs": [],
      "execution_count": null,
      "metadata": {
        "collapsed": true,
        "jupyter": {
          "source_hidden": false,
          "outputs_hidden": false
        },
        "nteract": {
          "transient": {
            "deleting": false
          }
        },
        "gather": {
          "logged": 1616950993565
        }
      }
    },
    {
      "cell_type": "markdown",
      "source": [
        "You can open the MLflow ui by posting the `mlflow ui` command in a terminal.\r\n",
        "This will open a web service listening at port 5000 of your compute instance.\r\n",
        "To view that port you need to visit `https://<compute-instance-name>-5000.<location>.instances.azureml.ms/`.\r\n",
        "\r\n",
        "If you are having troubles constructing this url:\r\n",
        "- Open a JupyterLab. \r\n",
        "- Copy the url that should be like `https://<compute-instance-name>.<location>.instances.azureml.ms`.\r\n",
        "- Modify the url to include the 5000 port number."
      ],
      "metadata": {
        "nteract": {
          "transient": {
            "deleting": false
          }
        }
      }
    },
    {
      "cell_type": "code",
      "source": [
        "!pip install azureml-mlflow"
      ],
      "outputs": [],
      "execution_count": null,
      "metadata": {
        "collapsed": true,
        "jupyter": {
          "source_hidden": false,
          "outputs_hidden": false
        },
        "nteract": {
          "transient": {
            "deleting": false
          }
        }
      }
    },
    {
      "cell_type": "code",
      "source": [
        "import mlflow\r\n",
        "from azureml.core import Workspace\r\n",
        "\r\n",
        "ws = Workspace.from_config()\r\n",
        "mlflow.set_tracking_uri(ws.get_mlflow_tracking_uri())\r\n",
        "\r\n",
        "mlflow.set_experiment(\"chapter09-mlflow\")\r\n",
        "with mlflow.start_run():\r\n",
        "    mlflow.sklearn.autolog()\r\n",
        "    trained_model, model_nrmse = train_and_evaluate(0.1, \r\n",
        "                                    X_train, y_train,\r\n",
        "                                    X_validate, y_validate)"
      ],
      "outputs": [],
      "execution_count": null,
      "metadata": {
        "collapsed": true,
        "jupyter": {
          "source_hidden": false,
          "outputs_hidden": false
        },
        "nteract": {
          "transient": {
            "deleting": false
          }
        },
        "gather": {
          "logged": 1616951404651
        }
      }
    },
    {
      "cell_type": "markdown",
      "source": [
        "## Scaling the training process with compute clusters"
      ],
      "metadata": {
        "nteract": {
          "transient": {
            "deleting": false
          }
        }
      }
    },
    {
      "cell_type": "code",
      "source": [
        "from azureml.core import Workspace, Experiment\r\n",
        "from azureml.core import ScriptRunConfig\r\n",
        "\r\n",
        "ws = Workspace.from_config()\r\n",
        "target = ws.compute_targets['cpu-sm-cluster']\r\n",
        "\r\n",
        "script = ScriptRunConfig(\r\n",
        "    source_directory='greeter-job',\r\n",
        "    script='greeter.py',\r\n",
        "    compute_target=target,\r\n",
        "    arguments=['--greet-name', 'packt']\r\n",
        ")\r\n",
        "\r\n",
        "exp = Experiment(ws, 'greet-packt')\r\n",
        "run = exp.submit(script)\r\n",
        "print(run.get_portal_url())\r\n",
        "run.wait_for_completion(show_output=True)"
      ],
      "outputs": [],
      "execution_count": null,
      "metadata": {
        "collapsed": true,
        "jupyter": {
          "source_hidden": false,
          "outputs_hidden": false
        },
        "nteract": {
          "transient": {
            "deleting": false
          }
        },
        "gather": {
          "logged": 1617051385983
        }
      }
    },
    {
      "cell_type": "code",
      "source": [
        "from azureml.widgets import RunDetails\r\n",
        "\r\n",
        "run = exp.submit(script)\r\n",
        "RunDetails(run).show()"
      ],
      "outputs": [],
      "execution_count": null,
      "metadata": {
        "collapsed": true,
        "jupyter": {
          "source_hidden": false,
          "outputs_hidden": false
        },
        "nteract": {
          "transient": {
            "deleting": false
          }
        },
        "gather": {
          "logged": 1617056058834
        }
      }
    },
    {
      "cell_type": "markdown",
      "source": [
        "### Understanding execution environments"
      ],
      "metadata": {
        "nteract": {
          "transient": {
            "deleting": false
          }
        }
      }
    },
    {
      "cell_type": "code",
      "source": [
        "from azureml.core import Workspace\r\n",
        "\r\n",
        "ws = Workspace.from_config()"
      ],
      "outputs": [],
      "execution_count": null,
      "metadata": {
        "collapsed": true,
        "jupyter": {
          "source_hidden": false,
          "outputs_hidden": false
        },
        "nteract": {
          "transient": {
            "deleting": false
          }
        },
        "gather": {
          "logged": 1618753743647
        }
      }
    },
    {
      "cell_type": "code",
      "source": [
        "from azureml.core import Environment\r\n",
        "\r\n",
        "minimal_env = Environment.get(ws, name=\"AzureML-Minimal\")\r\n",
        "\r\n",
        "print(minimal_env.name, minimal_env.version)\r\n",
        "print(minimal_env.python.conda_dependencies.serialize_to_string())"
      ],
      "outputs": [],
      "execution_count": null,
      "metadata": {
        "collapsed": true,
        "jupyter": {
          "source_hidden": false,
          "outputs_hidden": false
        },
        "nteract": {
          "transient": {
            "deleting": false
          }
        },
        "gather": {
          "logged": 1618177826711
        }
      }
    },
    {
      "cell_type": "code",
      "source": [
        "from azureml.core import Experiment, ScriptRunConfig\r\n",
        "\r\n",
        "target = ws.compute_targets['cpu-sm-cluster']\r\n",
        "\r\n",
        "script = ScriptRunConfig(\r\n",
        "    source_directory='greeter-job',\r\n",
        "    script='greeter.py',\r\n",
        "    environment=minimal_env,\r\n",
        "    compute_target=target,\r\n",
        "    arguments=['--greet-name', 'packt']\r\n",
        ")\r\n",
        "\r\n",
        "exp = Experiment(ws, 'greet-packt')\r\n",
        "run = exp.submit(script)\r\n",
        "print(run.get_portal_url())\r\n",
        "run.wait_for_completion(show_output=True)"
      ],
      "outputs": [],
      "execution_count": null,
      "metadata": {
        "collapsed": true,
        "jupyter": {
          "source_hidden": false,
          "outputs_hidden": false
        },
        "nteract": {
          "transient": {
            "deleting": false
          }
        },
        "gather": {
          "logged": 1618178350785
        }
      }
    },
    {
      "cell_type": "code",
      "source": [
        "from azureml.core import Environment\r\n",
        "\r\n",
        "banner_env = Environment.from_conda_specification(\r\n",
        "                            name = \"banner-env\",\r\n",
        "                            file_path = \"greeter-banner-job.yml\")\r\n",
        "banner_env.environment_variables[\"GREET_HEADER\"] = \\\r\n",
        "                                 \"Env. var. header:\""
      ],
      "outputs": [],
      "execution_count": null,
      "metadata": {
        "collapsed": true,
        "jupyter": {
          "source_hidden": false,
          "outputs_hidden": false
        },
        "nteract": {
          "transient": {
            "deleting": false
          }
        },
        "gather": {
          "logged": 1618185952745
        }
      }
    },
    {
      "cell_type": "code",
      "source": [
        "# To register in the workspace, uncomment the following line\r\n",
        "# banner_env.register(ws)"
      ],
      "outputs": [],
      "execution_count": null,
      "metadata": {
        "collapsed": true,
        "jupyter": {
          "source_hidden": false,
          "outputs_hidden": false
        },
        "nteract": {
          "transient": {
            "deleting": false
          }
        },
        "gather": {
          "logged": 1618186565719
        }
      }
    },
    {
      "cell_type": "code",
      "source": [
        "script = ScriptRunConfig(\r\n",
        "    source_directory='greeter-banner-job',\r\n",
        "    script='greeter.py',\r\n",
        "    environment=banner_env,\r\n",
        "    compute_target=target,\r\n",
        "    arguments=['--greet-name', 'packt']\r\n",
        ")\r\n",
        "\r\n",
        "exp = Experiment(ws, 'greet-packt')\r\n",
        "run = exp.submit(script)\r\n",
        "print(run.get_portal_url())\r\n",
        "run.wait_for_completion(show_output=True)"
      ],
      "outputs": [],
      "execution_count": null,
      "metadata": {
        "collapsed": true,
        "jupyter": {
          "source_hidden": false,
          "outputs_hidden": false
        },
        "nteract": {
          "transient": {
            "deleting": false
          }
        },
        "gather": {
          "logged": 1618184887886
        }
      }
    },
    {
      "cell_type": "markdown",
      "source": [
        "### Training the diabetes model on a compute cluster"
      ],
      "metadata": {
        "nteract": {
          "transient": {
            "deleting": false
          }
        }
      }
    },
    {
      "cell_type": "code",
      "source": [
        "!pip show scikit-learn"
      ],
      "outputs": [],
      "execution_count": null,
      "metadata": {
        "collapsed": true,
        "jupyter": {
          "source_hidden": false,
          "outputs_hidden": false
        },
        "nteract": {
          "transient": {
            "deleting": false
          }
        }
      }
    },
    {
      "cell_type": "code",
      "source": [
        "import sklearn\r\n",
        "print(sklearn.__version__)"
      ],
      "outputs": [],
      "execution_count": null,
      "metadata": {
        "collapsed": true,
        "jupyter": {
          "source_hidden": false,
          "outputs_hidden": false
        },
        "nteract": {
          "transient": {
            "deleting": false
          }
        },
        "gather": {
          "logged": 1618753757551
        }
      }
    },
    {
      "cell_type": "code",
      "source": [
        "from azureml.core import Environment\r\n",
        "from azureml.core.conda_dependencies import CondaDependencies \r\n",
        "import sklearn\r\n",
        "\r\n",
        "diabetes_env = Environment(name=\"diabetes-training-env\")\r\n",
        "diabetes_env.python.conda_dependencies = CondaDependencies()\r\n",
        "diabetes_env.python.conda_dependencies.add_conda_package(f\"scikit-learn=={sklearn.__version__}\")\r\n",
        "# Optionally \r\n",
        "# import joblib\r\n",
        "# diabetes_env.python.conda_dependencies.add_pip_package(f\"joblib=={joblib.__version__}\")\r\n",
        "# Alternatively you can use the following single line code:\r\n",
        "# diabetes_env.python.conda_dependencies = CondaDependencies.create(\r\n",
        "#               conda_packages=[f\"scikit-learn=={sklearn.__version__}\"],\r\n",
        "#               pip_packages=[f\"joblib=={joblib.__version__}\"])"
      ],
      "outputs": [],
      "execution_count": null,
      "metadata": {
        "collapsed": true,
        "jupyter": {
          "source_hidden": false,
          "outputs_hidden": false
        },
        "nteract": {
          "transient": {
            "deleting": false
          }
        },
        "gather": {
          "logged": 1618753760739
        }
      }
    },
    {
      "cell_type": "code",
      "source": [
        "from azureml.core import Workspace, Experiment\r\n",
        "from azureml.core import ScriptRunConfig\r\n",
        "\r\n",
        "ws = Workspace.from_config()\r\n",
        "target = ws.compute_targets['cpu-sm-cluster']\r\n",
        "\r\n",
        "script = ScriptRunConfig(\r\n",
        "    source_directory='diabetes-training',\r\n",
        "    script='training.py',\r\n",
        "    environment=diabetes_env,\r\n",
        "    compute_target=target,\r\n",
        "    arguments=['--alpha', 0.01]\r\n",
        ")\r\n",
        "\r\n",
        "exp = Experiment(ws, 'chapter09-diabetes')\r\n",
        "run = exp.submit(script)\r\n",
        "run.wait_for_completion(show_output=True)"
      ],
      "outputs": [],
      "execution_count": null,
      "metadata": {
        "collapsed": true,
        "jupyter": {
          "source_hidden": false,
          "outputs_hidden": false
        },
        "nteract": {
          "transient": {
            "deleting": false
          }
        },
        "gather": {
          "logged": 1618755697283
        }
      }
    },
    {
      "cell_type": "markdown",
      "source": [
        "## Hyperparameter tuning using HyperDrive\r\n",
        "Make sure you have executed the previous section."
      ],
      "metadata": {
        "nteract": {
          "transient": {
            "deleting": false
          }
        }
      }
    },
    {
      "cell_type": "code",
      "source": [
        "from azureml.train.hyperdrive import HyperDriveConfig\r\n",
        "from azureml.train.hyperdrive import RandomParameterSampling, uniform, PrimaryMetricGoal\r\n",
        "\r\n",
        "param_sampling = RandomParameterSampling({\r\n",
        "        'alpha': uniform(0.00001, 0.1),\r\n",
        "    }\r\n",
        ")\r\n",
        "\r\n",
        "script = ScriptRunConfig(\r\n",
        "    source_directory='diabetes-training',\r\n",
        "    script='training.py',\r\n",
        "    environment=diabetes_env,\r\n",
        "    compute_target=target\r\n",
        ")\r\n",
        "\r\n",
        "hd_config = HyperDriveConfig(\r\n",
        "                     run_config=script,                          \r\n",
        "                     hyperparameter_sampling=param_sampling,\r\n",
        "                     primary_metric_name=\"nrmse\", \r\n",
        "                     primary_metric_goal=                   \r\n",
        "                                 PrimaryMetricGoal.MINIMIZE,\r\n",
        "                     max_total_runs=20,\r\n",
        "                     max_concurrent_runs=4)\r\n",
        "\r\n",
        "experiment = Experiment(ws, \"chapter09-hyperdrive\")\r\n",
        "hyperdrive_run = experiment.submit(hd_config)\r\n",
        "\r\n",
        "hyperdrive_run.wait_for_completion(show_output=True)"
      ],
      "outputs": [],
      "execution_count": null,
      "metadata": {
        "collapsed": true,
        "jupyter": {
          "source_hidden": false,
          "outputs_hidden": false
        },
        "nteract": {
          "transient": {
            "deleting": false
          }
        },
        "gather": {
          "logged": 1618760965801
        }
      }
    },
    {
      "cell_type": "code",
      "source": [
        "best_run = hyperdrive_run.get_best_run_by_primary_metric()\r\n",
        "best_run_metrics = best_run.get_metrics(name='nrmse')\r\n",
        "parameter_values = best_run.get_details()[\r\n",
        "                        'runDefinition']['arguments']\r\n",
        "\r\n",
        "print('Best Run Id: ', best_run.id)\r\n",
        "print('- NRMSE:', best_run_metrics['nrmse'])\r\n",
        "print('- alpha:', parameter_values[1])"
      ],
      "outputs": [],
      "execution_count": null,
      "metadata": {
        "collapsed": true,
        "jupyter": {
          "source_hidden": false,
          "outputs_hidden": false
        },
        "nteract": {
          "transient": {
            "deleting": false
          }
        },
        "gather": {
          "logged": 1618767033186
        }
      }
    },
    {
      "cell_type": "markdown",
      "source": [
        "### Using the early termination policy"
      ],
      "metadata": {
        "nteract": {
          "transient": {
            "deleting": false
          }
        }
      }
    },
    {
      "cell_type": "code",
      "source": [
        "from azureml.core import Workspace, ScriptRunConfig, Experiment\r\n",
        "from azureml.train.hyperdrive import (\r\n",
        "    GridParameterSampling,    \r\n",
        "    choice,\r\n",
        "    MedianStoppingPolicy,\r\n",
        "    HyperDriveConfig,\r\n",
        "    PrimaryMetricGoal\r\n",
        ")\r\n",
        "\r\n",
        "ws = Workspace.from_config()\r\n",
        "target = ws.compute_targets[\"cpu-sm-cluster\"]\r\n",
        "\r\n",
        "script = ScriptRunConfig(\r\n",
        "    source_directory=\"termination-policy-training\",\r\n",
        "    script=\"training.py\",\r\n",
        "    environment=ws.environments[\"AzureML-Minimal\"],\r\n",
        "    compute_target=target,\r\n",
        ")\r\n",
        "\r\n",
        "param_sampling = GridParameterSampling(\r\n",
        "    {\r\n",
        "        \"a\": choice(6, 5, 4, 3, 2, 1),\r\n",
        "        \"b\": choice(6, 5, 4, 3, 2, 1),\r\n",
        "    }\r\n",
        ")\r\n",
        "\r\n",
        "early_termination_policy = MedianStoppingPolicy(\r\n",
        "    evaluation_interval=1, delay_evaluation=5\r\n",
        ")\r\n",
        "\r\n",
        "# More aggressive alternative\r\n",
        "# from azureml.train.hyperdrive import TruncationSelectionPolicy\r\n",
        "# early_termination_policy = TruncationSelectionPolicy(\r\n",
        "#    truncation_percentage=50, evaluation_interval=1\r\n",
        "#)\r\n",
        "\r\n",
        "hd_config = HyperDriveConfig(\r\n",
        "    policy=early_termination_policy,\r\n",
        "    run_config=script,\r\n",
        "    hyperparameter_sampling=param_sampling,\r\n",
        "    primary_metric_name=\"fake_metric\",\r\n",
        "    primary_metric_goal=PrimaryMetricGoal.MAXIMIZE,\r\n",
        "    max_total_runs=50,\r\n",
        "    max_concurrent_runs=4\r\n",
        ")\r\n",
        "\r\n",
        "experiment = Experiment(ws, \"chapter09-hyperdrive\")\r\n",
        "hyperdrive_run = experiment.submit(hd_config)\r\n",
        "\r\n",
        "hyperdrive_run.wait_for_completion(show_output=True)"
      ],
      "outputs": [],
      "execution_count": null,
      "metadata": {
        "collapsed": true,
        "jupyter": {
          "source_hidden": false,
          "outputs_hidden": false
        },
        "nteract": {
          "transient": {
            "deleting": false
          }
        },
        "gather": {
          "logged": 1618785169123
        }
      }
    },
    {
      "cell_type": "markdown",
      "source": [
        "## Running AutoML experiments via code"
      ],
      "metadata": {
        "nteract": {
          "transient": {
            "deleting": false
          }
        }
      }
    },
    {
      "cell_type": "code",
      "source": [
        "from azureml.core import Workspace, Dataset\r\n",
        "from azureml.train.automl import AutoMLConfig\r\n",
        "\r\n",
        "ws = Workspace.from_config()\r\n",
        "compute_target = ws.compute_targets[\"cpu-sm-cluster\"]\r\n",
        "\r\n",
        "diabetes_dataset = Dataset.get_by_name(workspace=ws, name='diabetes')\r\n",
        "\r\n",
        "train_ds,validate_ds = diabetes_dataset.random_split(percentage=0.8, seed=1337)\r\n",
        "\r\n",
        "print(f\"Train: {len(train_ds.to_pandas_dataframe().axes[0])} rows\")\r\n",
        "print(f\"Validate: {len(validate_ds.to_pandas_dataframe().axes[0])} rows\")\r\n",
        "\r\n",
        "experiment_config = AutoMLConfig(\r\n",
        "    task = \"regression\",\r\n",
        "    primary_metric = 'normalized_root_mean_squared_error',\r\n",
        "    training_data = train_ds,\r\n",
        "    label_column_name = \"target\",\r\n",
        "    validation_data = validate_ds,\r\n",
        "    compute_target = compute_target,\r\n",
        "    experiment_timeout_hours = 0.25,\r\n",
        "    iterations = 4\r\n",
        ")"
      ],
      "outputs": [],
      "execution_count": null,
      "metadata": {
        "collapsed": true,
        "jupyter": {
          "source_hidden": false,
          "outputs_hidden": false
        },
        "nteract": {
          "transient": {
            "deleting": false
          }
        },
        "gather": {
          "logged": 1619391403805
        }
      }
    },
    {
      "cell_type": "code",
      "source": [
        "from azureml.core.experiment import Experiment\r\n",
        "\r\n",
        "my_experiment = Experiment(ws, 'chapter09-automl-experiment')\r\n",
        "run = my_experiment.submit(experiment_config, show_output=True)"
      ],
      "outputs": [],
      "execution_count": null,
      "metadata": {
        "collapsed": true,
        "jupyter": {
          "source_hidden": false,
          "outputs_hidden": false
        },
        "nteract": {
          "transient": {
            "deleting": false
          }
        },
        "gather": {
          "logged": 1619392354611
        }
      }
    },
    {
      "cell_type": "code",
      "source": [
        "# To retrieve a previous run \r\n",
        "# from azureml.train.automl.run import AutoMLRun\r\n",
        "# run = AutoMLRun(my_experiment, run_id = 'AutoML_80833402-6e7e-4c25-b6aa-b6fd44d75d09')\r\n",
        "\r\n",
        "# Get best run and model\r\n",
        "best_run, best_model = run.get_output()\r\n",
        "# Or with index\r\n",
        "best_run = run.get_output()[0]\r\n",
        "best_model = run.get_output()[1]\r\n"
      ],
      "outputs": [],
      "execution_count": null,
      "metadata": {
        "collapsed": true,
        "jupyter": {
          "source_hidden": false,
          "outputs_hidden": false
        },
        "nteract": {
          "transient": {
            "deleting": false
          }
        },
        "gather": {
          "logged": 1619389055836
        }
      }
    },
    {
      "cell_type": "code",
      "source": [
        "# Scaling/normalization and model algorythm\r\n",
        "best_model.steps"
      ],
      "outputs": [],
      "execution_count": null,
      "metadata": {
        "collapsed": true,
        "jupyter": {
          "source_hidden": false,
          "outputs_hidden": false
        },
        "nteract": {
          "transient": {
            "deleting": false
          }
        },
        "gather": {
          "logged": 1619389490944
        }
      }
    },
    {
      "cell_type": "code",
      "source": [
        "# Automated feature engineering\r\n",
        "# Use 'timeseriestransformer' for task='forecasting',\r\n",
        "# else use 'datatransformer' for 'regression' or 'classification' task.\r\n",
        "print(best_model.named_steps['datatransformer'] \\\r\n",
        "                 .get_featurization_summary())\r\n",
        "feature_names=best_model.named_steps['datatransformer'] \\\r\n",
        "                 .get_engineered_feature_names()\r\n",
        "print(\"Engineered feature names:\")\r\n",
        "print(feature_names)"
      ],
      "outputs": [],
      "execution_count": null,
      "metadata": {
        "collapsed": true,
        "jupyter": {
          "source_hidden": false,
          "outputs_hidden": false
        },
        "nteract": {
          "transient": {
            "deleting": false
          }
        },
        "gather": {
          "logged": 1619390432428
        }
      }
    },
    {
      "cell_type": "markdown",
      "source": [
        "## Working with pipelines"
      ],
      "metadata": {
        "nteract": {
          "transient": {
            "deleting": false
          }
        }
      }
    },
    {
      "cell_type": "code",
      "source": [],
      "outputs": [],
      "execution_count": null,
      "metadata": {
        "collapsed": true,
        "jupyter": {
          "source_hidden": false,
          "outputs_hidden": false
        },
        "nteract": {
          "transient": {
            "deleting": false
          }
        }
      }
    }
  ],
  "metadata": {
    "kernelspec": {
      "name": "python3-azureml",
      "language": "python",
      "display_name": "Python 3.6 - AzureML"
    },
    "language_info": {
      "name": "python",
      "version": "3.6.9",
      "mimetype": "text/x-python",
      "codemirror_mode": {
        "name": "ipython",
        "version": 3
      },
      "pygments_lexer": "ipython3",
      "nbconvert_exporter": "python",
      "file_extension": ".py"
    },
    "kernel_info": {
      "name": "python3-azureml"
    },
    "microsoft": {
      "host": {
        "AzureML": {
          "notebookHasBeenCompleted": true
        }
      }
    },
    "nteract": {
      "version": "nteract-front-end@1.0.0"
    }
  },
  "nbformat": 4,
  "nbformat_minor": 2
}
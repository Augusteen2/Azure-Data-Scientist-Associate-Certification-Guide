{
  "cells": [
    {
      "cell_type": "markdown",
      "source": [
        "# Chapter 09 code snippets\r\n",
        "This notebook contains all code snippets from chapter 9."
      ],
      "metadata": {
        "nteract": {
          "transient": {
            "deleting": false
          }
        }
      }
    },
    {
      "cell_type": "markdown",
      "source": [
        "## Hyperparameter tuning using HyperDrive"
      ],
      "metadata": {
        "nteract": {
          "transient": {
            "deleting": false
          }
        }
      }
    },
    {
      "cell_type": "code",
      "source": [
        "from azureml.core import (\r\n",
        "    Workspace, Environment\r\n",
        ")\r\n",
        "from azureml.core.conda_dependencies import \\\r\n",
        "     CondaDependencies \r\n",
        "import sklearn\r\n",
        "\r\n",
        "ws = Workspace.from_config()\r\n",
        "\r\n",
        "diabetes_env = Environment(name=\"diabetes-training-env\")\r\n",
        "diabetes_env.python.conda_dependencies = \\\r\n",
        "                                     CondaDependencies()\r\n",
        "diabetes_env.python.conda_dependencies.add_conda_package(\r\n",
        "                  f\"scikit-learn=={sklearn.__version__}\")\r\n",
        "\r\n",
        "target = ws.compute_targets['cpu-sm-cluster']"
      ],
      "outputs": [],
      "execution_count": null,
      "metadata": {
        "collapsed": true,
        "jupyter": {
          "source_hidden": false,
          "outputs_hidden": false
        },
        "nteract": {
          "transient": {
            "deleting": false
          }
        },
        "gather": {
          "logged": 1627376579900
        }
      }
    },
    {
      "cell_type": "code",
      "source": [
        "from azureml.core import ScriptRunConfig, Experiment\r\n",
        "from azureml.train.hyperdrive import HyperDriveConfig\r\n",
        "from azureml.train.hyperdrive import (\r\n",
        "    RandomParameterSampling, uniform, PrimaryMetricGoal\r\n",
        ")\r\n",
        "\r\n",
        "param_sampling = RandomParameterSampling({\r\n",
        "        'alpha': uniform(0.00001, 0.1),\r\n",
        "    }\r\n",
        ")\r\n",
        "\r\n",
        "script = ScriptRunConfig(\r\n",
        "    source_directory='diabetes-training',\r\n",
        "    script='training.py',\r\n",
        "    environment=diabetes_env,\r\n",
        "    compute_target=target\r\n",
        ")\r\n",
        "\r\n",
        "hd_config = HyperDriveConfig(\r\n",
        "                     run_config=script,                          \r\n",
        "                     hyperparameter_sampling=param_sampling,\r\n",
        "                     primary_metric_name=\"nrmse\", \r\n",
        "                     primary_metric_goal=                   \r\n",
        "                                 PrimaryMetricGoal.MINIMIZE,\r\n",
        "                     max_total_runs=20,\r\n",
        "                     max_concurrent_runs=4)\r\n",
        "\r\n",
        "experiment = Experiment(ws, \"chapter09-hyperdrive\")\r\n",
        "hyperdrive_run = experiment.submit(hd_config)\r\n",
        "\r\n",
        "hyperdrive_run.wait_for_completion(show_output=True)"
      ],
      "outputs": [],
      "execution_count": null,
      "metadata": {
        "collapsed": true,
        "jupyter": {
          "source_hidden": false,
          "outputs_hidden": false
        },
        "nteract": {
          "transient": {
            "deleting": false
          }
        },
        "gather": {
          "logged": 1618760965801
        }
      }
    },
    {
      "cell_type": "code",
      "source": [
        "best_run = hyperdrive_run.get_best_run_by_primary_metric()\r\n",
        "best_run_metrics = best_run.get_metrics(name='nrmse')\r\n",
        "parameter_values = best_run.get_details()[\r\n",
        "                        'runDefinition']['arguments']\r\n",
        "\r\n",
        "print('Best Run Id: ', best_run.id)\r\n",
        "print('- NRMSE:', best_run_metrics['nrmse'])\r\n",
        "print('- alpha:', parameter_values[1])"
      ],
      "outputs": [],
      "execution_count": null,
      "metadata": {
        "collapsed": true,
        "jupyter": {
          "source_hidden": false,
          "outputs_hidden": false
        },
        "nteract": {
          "transient": {
            "deleting": false
          }
        },
        "gather": {
          "logged": 1627377500665
        }
      }
    },
    {
      "cell_type": "markdown",
      "source": [
        "### Using the early termination policy"
      ],
      "metadata": {
        "nteract": {
          "transient": {
            "deleting": false
          }
        }
      }
    },
    {
      "cell_type": "code",
      "source": [
        "from azureml.core import Workspace, ScriptRunConfig, Experiment\r\n",
        "from azureml.train.hyperdrive import (\r\n",
        "    GridParameterSampling,    \r\n",
        "    choice,\r\n",
        "    MedianStoppingPolicy,\r\n",
        "    HyperDriveConfig,\r\n",
        "    PrimaryMetricGoal\r\n",
        ")\r\n",
        "\r\n",
        "ws = Workspace.from_config()\r\n",
        "target = ws.compute_targets[\"cpu-sm-cluster\"]\r\n",
        "\r\n",
        "script = ScriptRunConfig(\r\n",
        "    source_directory=\"termination-policy-training\",\r\n",
        "    script=\"training.py\",\r\n",
        "    environment=ws.environments[\"AzureML-Minimal\"],\r\n",
        "    compute_target=target,\r\n",
        ")\r\n",
        "\r\n",
        "param_sampling = GridParameterSampling(\r\n",
        "    {\r\n",
        "        \"a\": choice(6, 5, 4, 3, 2, 1),\r\n",
        "        \"b\": choice(6, 5, 4, 3, 2, 1),\r\n",
        "    }\r\n",
        ")\r\n",
        "\r\n",
        "early_termination_policy = MedianStoppingPolicy(\r\n",
        "    evaluation_interval=1, delay_evaluation=5\r\n",
        ")\r\n",
        "\r\n",
        "# More aggressive alternative\r\n",
        "# from azureml.train.hyperdrive import TruncationSelectionPolicy\r\n",
        "# early_termination_policy = TruncationSelectionPolicy(\r\n",
        "#    truncation_percentage=50, evaluation_interval=1\r\n",
        "#)\r\n",
        "\r\n",
        "hd_config = HyperDriveConfig(\r\n",
        "    policy=early_termination_policy,\r\n",
        "    run_config=script,\r\n",
        "    hyperparameter_sampling=param_sampling,\r\n",
        "    primary_metric_name=\"fake_metric\",\r\n",
        "    primary_metric_goal=PrimaryMetricGoal.MAXIMIZE,\r\n",
        "    max_total_runs=50,\r\n",
        "    max_concurrent_runs=4\r\n",
        ")\r\n",
        "\r\n",
        "experiment = Experiment(ws, \"chapter09-hyperdrive\")\r\n",
        "hyperdrive_run = experiment.submit(hd_config)\r\n",
        "\r\n",
        "hyperdrive_run.wait_for_completion(show_output=True)"
      ],
      "outputs": [],
      "execution_count": null,
      "metadata": {
        "collapsed": true,
        "jupyter": {
          "source_hidden": false,
          "outputs_hidden": false
        },
        "nteract": {
          "transient": {
            "deleting": false
          }
        },
        "gather": {
          "logged": 1618785169123
        }
      }
    },
    {
      "cell_type": "markdown",
      "source": [
        "## Running AutoML experiments via code"
      ],
      "metadata": {
        "nteract": {
          "transient": {
            "deleting": false
          }
        }
      }
    },
    {
      "cell_type": "code",
      "source": [
        "from azureml.core import Workspace, Dataset\r\n",
        "from azureml.train.automl import AutoMLConfig\r\n",
        "\r\n",
        "ws = Workspace.from_config()\r\n",
        "compute_target = ws.compute_targets[\"cpu-sm-cluster\"]\r\n",
        "\r\n",
        "diabetes_dataset = Dataset.get_by_name(workspace=ws, name='diabetes')\r\n",
        "\r\n",
        "train_ds,validate_ds = diabetes_dataset.random_split(percentage=0.8, seed=1337)\r\n",
        "\r\n",
        "print(f\"Train: {len(train_ds.to_pandas_dataframe().axes[0])} rows\")\r\n",
        "print(f\"Validate: {len(validate_ds.to_pandas_dataframe().axes[0])} rows\")\r\n",
        "\r\n",
        "experiment_config = AutoMLConfig(\r\n",
        "    task = \"regression\",\r\n",
        "    primary_metric = 'normalized_root_mean_squared_error',\r\n",
        "    training_data = train_ds,\r\n",
        "    label_column_name = \"target\",\r\n",
        "    validation_data = validate_ds,\r\n",
        "    compute_target = compute_target,\r\n",
        "    experiment_timeout_hours = 0.25,\r\n",
        "    iterations = 4\r\n",
        ")"
      ],
      "outputs": [],
      "execution_count": null,
      "metadata": {
        "collapsed": true,
        "jupyter": {
          "source_hidden": false,
          "outputs_hidden": false
        },
        "nteract": {
          "transient": {
            "deleting": false
          }
        },
        "gather": {
          "logged": 1628352313404
        }
      }
    },
    {
      "cell_type": "code",
      "source": [
        "from azureml.core.experiment import Experiment\r\n",
        "\r\n",
        "my_experiment = Experiment(ws, 'chapter09-automl-experiment')\r\n",
        "run = my_experiment.submit(experiment_config, show_output=True)"
      ],
      "outputs": [],
      "execution_count": null,
      "metadata": {
        "collapsed": true,
        "jupyter": {
          "source_hidden": false,
          "outputs_hidden": false
        },
        "nteract": {
          "transient": {
            "deleting": false
          }
        },
        "gather": {
          "logged": 1628353037974
        }
      }
    },
    {
      "cell_type": "code",
      "source": [
        "# To retrieve a previous run \r\n",
        "# from azureml.train.automl.run import AutoMLRun\r\n",
        "# run = AutoMLRun(my_experiment, run_id = 'AutoML_80833402-6e7e-4c25-b6aa-b6fd44d75d09')\r\n",
        "\r\n",
        "# Get best run and model\r\n",
        "best_run, best_model = run.get_output()\r\n",
        "# Or with index\r\n",
        "best_run = run.get_output()[0]\r\n",
        "best_model = run.get_output()[1]\r\n"
      ],
      "outputs": [],
      "execution_count": null,
      "metadata": {
        "collapsed": true,
        "jupyter": {
          "source_hidden": false,
          "outputs_hidden": false
        },
        "nteract": {
          "transient": {
            "deleting": false
          }
        },
        "gather": {
          "logged": 1628353526686
        }
      }
    },
    {
      "cell_type": "code",
      "source": [
        "# Scaling/normalization and model algorythm\r\n",
        "best_model.steps"
      ],
      "outputs": [],
      "execution_count": null,
      "metadata": {
        "collapsed": true,
        "jupyter": {
          "source_hidden": false,
          "outputs_hidden": false
        },
        "nteract": {
          "transient": {
            "deleting": false
          }
        },
        "gather": {
          "logged": 1628353536565
        }
      }
    },
    {
      "cell_type": "code",
      "source": [
        "# Automated feature engineering\r\n",
        "# Use 'timeseriestransformer' for task='forecasting',\r\n",
        "# else use 'datatransformer' for 'regression' or 'classification' task.\r\n",
        "print(best_model.named_steps['datatransformer'] \\\r\n",
        "                 .get_featurization_summary())\r\n",
        "feature_names=best_model.named_steps['datatransformer'] \\\r\n",
        "                 .get_engineered_feature_names()\r\n",
        "print(\"Engineered feature names:\")\r\n",
        "print(feature_names)"
      ],
      "outputs": [],
      "execution_count": null,
      "metadata": {
        "collapsed": true,
        "jupyter": {
          "source_hidden": false,
          "outputs_hidden": false
        },
        "nteract": {
          "transient": {
            "deleting": false
          }
        },
        "gather": {
          "logged": 1628353547828
        }
      }
    }
  ],
  "metadata": {
    "kernelspec": {
      "name": "python3-azureml",
      "language": "python",
      "display_name": "Python 3.6 - AzureML"
    },
    "language_info": {
      "name": "python",
      "version": "3.6.9",
      "mimetype": "text/x-python",
      "codemirror_mode": {
        "name": "ipython",
        "version": 3
      },
      "pygments_lexer": "ipython3",
      "nbconvert_exporter": "python",
      "file_extension": ".py"
    },
    "kernel_info": {
      "name": "python3-azureml"
    },
    "microsoft": {
      "host": {
        "AzureML": {
          "notebookHasBeenCompleted": true
        }
      }
    },
    "nteract": {
      "version": "nteract-front-end@1.0.0"
    }
  },
  "nbformat": 4,
  "nbformat_minor": 2
}
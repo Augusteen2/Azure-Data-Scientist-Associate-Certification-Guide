{
  "cells": [
    {
      "cell_type": "markdown",
      "source": [
        "# Chapter 08 code snippets\r\n",
        "This notebook contains all code snippets from chapter 8."
      ],
      "metadata": {
        "nteract": {
          "transient": {
            "deleting": false
          }
        }
      }
    },
    {
      "cell_type": "markdown",
      "source": [
        "## Training a simple sklearn model within notebooks"
      ],
      "metadata": {
        "nteract": {
          "transient": {
            "deleting": false
          }
        }
      }
    },
    {
      "cell_type": "code",
      "source": [
        "from azureml.core import Workspace\r\n",
        "\r\n",
        "ws = Workspace.from_config()\r\n",
        "diabetes_ds = ws.datasets['diabetes']\r\n",
        "\r\n",
        "training_data, validation_data = diabetes_ds.random_split(percentage = 0.8)\r\n",
        "\r\n",
        "X_train = training_data.drop_columns('target').to_pandas_dataframe()\r\n",
        "y_train = training_data.keep_columns('target').to_pandas_dataframe()\r\n",
        "\r\n",
        "X_validate = validation_data.drop_columns('target').to_pandas_dataframe()\r\n",
        "y_validate = validation_data.keep_columns('target').to_pandas_dataframe()"
      ],
      "outputs": [],
      "execution_count": null,
      "metadata": {
        "collapsed": true,
        "jupyter": {
          "source_hidden": false,
          "outputs_hidden": false
        },
        "nteract": {
          "transient": {
            "deleting": false
          }
        },
        "gather": {
          "logged": 1627335537694
        }
      }
    },
    {
      "cell_type": "code",
      "source": [
        "from sklearn.linear_model import LassoLars\r\n",
        "\r\n",
        "alpha = 0.1\r\n",
        "\r\n",
        "model = LassoLars(alpha=alpha)\r\n",
        "model.fit(X_train, y_train)"
      ],
      "outputs": [],
      "execution_count": null,
      "metadata": {
        "collapsed": true,
        "jupyter": {
          "source_hidden": false,
          "outputs_hidden": false
        },
        "nteract": {
          "transient": {
            "deleting": false
          }
        },
        "gather": {
          "logged": 1627335716713
        }
      }
    },
    {
      "cell_type": "code",
      "source": [
        "from sklearn.metrics import mean_squared_error\r\n",
        "\r\n",
        "predictions = model.predict(X_validate)\r\n",
        "rmse = mean_squared_error(predictions, y_validate, squared = False)\r\n",
        "\r\n",
        "# Range of data using the peak to peak numpy function\r\n",
        "range_y_validate = y_validate.to_numpy().ptp()\r\n",
        "# Normalize dividing by the range of the data\r\n",
        "nrmse = rmse/range_y_validate\r\n",
        "\r\n",
        "print(f\"Normalized Root Mean Squared Error: {nrmse}\")"
      ],
      "outputs": [],
      "execution_count": null,
      "metadata": {
        "collapsed": true,
        "jupyter": {
          "source_hidden": false,
          "outputs_hidden": false
        },
        "nteract": {
          "transient": {
            "deleting": false
          }
        },
        "gather": {
          "logged": 1627335999818
        }
      }
    },
    {
      "cell_type": "code",
      "source": [
        "import os\r\n",
        "import joblib\r\n",
        "\r\n",
        "os.makedirs('./outputs', exist_ok=True)\r\n",
        "\r\n",
        "model_file_name = f'model_{nrmse:.4f}_{alpha:.4f}.pkl'\r\n",
        "joblib.dump(value=model, filename=os.path.join('./outputs/',model_file_name))"
      ],
      "outputs": [],
      "execution_count": null,
      "metadata": {
        "collapsed": true,
        "jupyter": {
          "source_hidden": false,
          "outputs_hidden": false
        },
        "nteract": {
          "transient": {
            "deleting": false
          }
        },
        "gather": {
          "logged": 1627336105745
        }
      }
    },
    {
      "cell_type": "markdown",
      "source": [
        "## Tracking metrics in experiments"
      ],
      "metadata": {
        "nteract": {
          "transient": {
            "deleting": false
          }
        }
      }
    },
    {
      "cell_type": "code",
      "source": [
        "from azureml.core import Workspace, Experiment\r\n",
        "\r\n",
        "ws = Workspace.from_config()\r\n",
        "exp = Experiment(workspace=ws, name=\"chapter08\")"
      ],
      "outputs": [],
      "execution_count": null,
      "metadata": {
        "collapsed": true,
        "jupyter": {
          "source_hidden": false,
          "outputs_hidden": false
        },
        "nteract": {
          "transient": {
            "deleting": false
          }
        },
        "gather": {
          "logged": 1627336719114
        }
      }
    },
    {
      "cell_type": "code",
      "source": [
        "run = exp.start_logging()\r\n",
        "print(run.get_details())"
      ],
      "outputs": [],
      "execution_count": null,
      "metadata": {
        "collapsed": true,
        "jupyter": {
          "source_hidden": false,
          "outputs_hidden": false
        },
        "nteract": {
          "transient": {
            "deleting": false
          }
        },
        "gather": {
          "logged": 1627337140931
        }
      }
    },
    {
      "cell_type": "code",
      "source": [
        "run.log(\"nrmse\", 0.01)\r\n",
        "run.log(name=\"nrmse\", value=0.015, description=\"2nd measure\")"
      ],
      "outputs": [],
      "execution_count": null,
      "metadata": {
        "collapsed": true,
        "jupyter": {
          "source_hidden": false,
          "outputs_hidden": false
        },
        "nteract": {
          "transient": {
            "deleting": false
          }
        },
        "gather": {
          "logged": 1627337143594
        }
      }
    },
    {
      "cell_type": "code",
      "source": [
        "run.log_list(\"accuracies\", [0.5, 0.57, 0.62])"
      ],
      "outputs": [],
      "execution_count": null,
      "metadata": {
        "collapsed": true,
        "jupyter": {
          "source_hidden": false,
          "outputs_hidden": false
        },
        "nteract": {
          "transient": {
            "deleting": false
          }
        },
        "gather": {
          "logged": 1627337658811
        }
      }
    },
    {
      "cell_type": "code",
      "source": [
        "run.log_table(\"table\", {\"x\":[1, 2], \"y\":[0.1, 0.2]})\r\n",
        "run.log_row(\"table\", x=3, y=0.3)"
      ],
      "outputs": [],
      "execution_count": null,
      "metadata": {
        "collapsed": true,
        "jupyter": {
          "source_hidden": false,
          "outputs_hidden": false
        },
        "nteract": {
          "transient": {
            "deleting": false
          }
        },
        "gather": {
          "logged": 1627337660120
        }
      }
    },
    {
      "cell_type": "code",
      "source": [
        "child_run = run.child_run()\r\n",
        "child_run.log(\"child_metric\", 0.01)\r\n",
        "child_run.parent.log(\"metric_from_child\", 0.02)"
      ],
      "outputs": [],
      "execution_count": null,
      "metadata": {
        "collapsed": true,
        "jupyter": {
          "source_hidden": false,
          "outputs_hidden": false
        },
        "nteract": {
          "transient": {
            "deleting": false
          }
        },
        "gather": {
          "logged": 1627337662209
        }
      }
    },
    {
      "cell_type": "code",
      "source": [
        "child_run.cancel()\r\n",
        "run.complete()\r\n",
        "print(run.get_status())"
      ],
      "outputs": [],
      "execution_count": null,
      "metadata": {
        "collapsed": true,
        "jupyter": {
          "source_hidden": false,
          "outputs_hidden": false
        },
        "nteract": {
          "transient": {
            "deleting": false
          }
        },
        "gather": {
          "logged": 1627337689126
        }
      }
    },
    {
      "cell_type": "markdown",
      "source": [
        "### Tracking model evolution"
      ],
      "metadata": {
        "nteract": {
          "transient": {
            "deleting": false
          }
        }
      }
    },
    {
      "cell_type": "code",
      "source": [
        "import shutil\r\n",
        "\r\n",
        "try:\r\n",
        "  shutil.rmtree(\"./outputs\")\r\n",
        "except FileNotFoundError: \r\n",
        "  pass"
      ],
      "outputs": [],
      "execution_count": null,
      "metadata": {
        "collapsed": true,
        "jupyter": {
          "source_hidden": false,
          "outputs_hidden": false
        },
        "nteract": {
          "transient": {
            "deleting": false
          }
        },
        "gather": {
          "logged": 1627337781595
        }
      }
    },
    {
      "cell_type": "code",
      "source": [
        "from sklearn.linear_model import LassoLars\r\n",
        "from sklearn.metrics import mean_squared_error\r\n",
        "\r\n",
        "def train_and_evaluate(alpha, X_t, y_t, X_v, y_v):\r\n",
        "  model = LassoLars(alpha=alpha)\r\n",
        "  model.fit(X_t, y_t)\r\n",
        "  predictions = model.predict(X_v)\r\n",
        "  rmse = mean_squared_error(predictions, y_v, squared = False)\r\n",
        "  range_y_validate = y_v.to_numpy().ptp()\r\n",
        "  nrmse = rmse/range_y_validate\r\n",
        "  print(f\"NRMSE: {nrmse}\")\r\n",
        "  return model, nrmse\r\n",
        "\r\n",
        "trained_model, model_nrmse = train_and_evaluate(0.1, \r\n",
        "                        X_train, y_train,\r\n",
        "                        X_validate, y_validate)"
      ],
      "outputs": [],
      "execution_count": null,
      "metadata": {
        "collapsed": true,
        "jupyter": {
          "source_hidden": false,
          "outputs_hidden": false
        },
        "nteract": {
          "transient": {
            "deleting": false
          }
        },
        "gather": {
          "logged": 1627338176155
        }
      }
    },
    {
      "cell_type": "code",
      "source": [
        "def train_and_evaluate(run, alpha, X_t, y_t, X_v, y_v):\r\n",
        "  model = LassoLars(alpha=alpha)\r\n",
        "  model.fit(X_t, y_t)\r\n",
        "  predictions = model.predict(X_v)\r\n",
        "  rmse = mean_squared_error(predictions, y_v, squared = False)\r\n",
        "  range_y_validate = y_v.to_numpy().ptp()\r\n",
        "  nrmse = rmse/range_y_validate\r\n",
        "  run.log(\"nrmse\", nrmse)\r\n",
        "  run.log_row(\"nrmse over α\", α=alpha, nrmse=nrmse)\r\n",
        "  return model, nrmse"
      ],
      "outputs": [],
      "execution_count": null,
      "metadata": {
        "collapsed": true,
        "jupyter": {
          "source_hidden": false,
          "outputs_hidden": false
        },
        "nteract": {
          "transient": {
            "deleting": false
          }
        },
        "gather": {
          "logged": 1627338328154
        }
      }
    },
    {
      "cell_type": "code",
      "source": [
        "from azureml.core import Workspace, Experiment\r\n",
        "\r\n",
        "ws = Workspace.from_config()\r\n",
        "exp = Experiment(workspace=ws, name=\"chapter08\")\r\n",
        "with exp.start_logging() as run:\r\n",
        "    print(run.get_portal_url())\r\n",
        "    for a in [0.001, 0.01, 0.1, 0.25, 0.5]:\r\n",
        "        train_and_evaluate(run, a, \r\n",
        "                            X_train, y_train,\r\n",
        "                            X_validate, y_validate)"
      ],
      "outputs": [],
      "execution_count": null,
      "metadata": {
        "collapsed": true,
        "jupyter": {
          "source_hidden": false,
          "outputs_hidden": false
        },
        "nteract": {
          "transient": {
            "deleting": false
          }
        },
        "gather": {
          "logged": 1627338399377
        }
      }
    },
    {
      "cell_type": "markdown",
      "source": [
        "### Using MLFlow to track experiments"
      ],
      "metadata": {
        "nteract": {
          "transient": {
            "deleting": false
          }
        }
      }
    },
    {
      "cell_type": "code",
      "source": [
        "from sklearn.linear_model import LassoLars\r\n",
        "from sklearn.metrics import mean_squared_error\r\n",
        "import mlflow\r\n",
        "\r\n",
        "def train_and_evaluate(alpha, X_t, y_t, X_v, y_v):\r\n",
        "  model = LassoLars(alpha=alpha)\r\n",
        "  model.fit(X_t, y_t)\r\n",
        "  predictions = model.predict(X_v)\r\n",
        "  rmse = mean_squared_error(predictions, y_v, squared = False)\r\n",
        "  range_y_validate = y_v.to_numpy().ptp()\r\n",
        "  nrmse = rmse/range_y_validate\r\n",
        "  mlflow.log_metric(\"nrmse\", nrmse)\r\n",
        "  return model, nrmse\r\n",
        "\r\n",
        "mlflow.set_experiment(\"chapter08-mlflow\")\r\n",
        "with mlflow.start_run():\r\n",
        "    mlflow.sklearn.autolog()\r\n",
        "    trained_model, model_nrmse = train_and_evaluate(0.1, \r\n",
        "                                    X_train, y_train,\r\n",
        "                                    X_validate, y_validate)"
      ],
      "outputs": [],
      "execution_count": null,
      "metadata": {
        "collapsed": true,
        "jupyter": {
          "source_hidden": false,
          "outputs_hidden": false
        },
        "nteract": {
          "transient": {
            "deleting": false
          }
        },
        "gather": {
          "logged": 1627338756323
        }
      }
    },
    {
      "cell_type": "markdown",
      "source": [
        "You can open the MLflow ui by posting the `mlflow ui` command in a terminal.\r\n",
        "This will open a web service listening at port 5000 of your compute instance.\r\n",
        "To view that port you need to visit `https://<compute-instance-name>-5000.<location>.instances.azureml.ms/`.\r\n",
        "\r\n",
        "If you are having troubles constructing this url:\r\n",
        "- Open a JupyterLab. \r\n",
        "- Copy the url that should be like `https://<compute-instance-name>.<location>.instances.azureml.ms`.\r\n",
        "- Modify the url to include the 5000 port number."
      ],
      "metadata": {
        "nteract": {
          "transient": {
            "deleting": false
          }
        }
      }
    },
    {
      "cell_type": "code",
      "source": [
        "!pip install azureml-mlflow"
      ],
      "outputs": [],
      "execution_count": null,
      "metadata": {
        "collapsed": true,
        "jupyter": {
          "source_hidden": false,
          "outputs_hidden": false
        },
        "nteract": {
          "transient": {
            "deleting": false
          }
        }
      }
    },
    {
      "cell_type": "code",
      "source": [
        "import mlflow\r\n",
        "from azureml.core import Workspace\r\n",
        "\r\n",
        "ws = Workspace.from_config()\r\n",
        "mlflow.set_tracking_uri(ws.get_mlflow_tracking_uri())\r\n",
        "\r\n",
        "mlflow.set_experiment(\"chapter08-mlflow\")\r\n",
        "with mlflow.start_run():\r\n",
        "    mlflow.sklearn.autolog()\r\n",
        "    trained_model, model_nrmse = train_and_evaluate(0.1, \r\n",
        "                                    X_train, y_train,\r\n",
        "                                    X_validate, y_validate)"
      ],
      "outputs": [],
      "execution_count": null,
      "metadata": {
        "collapsed": true,
        "jupyter": {
          "source_hidden": false,
          "outputs_hidden": false
        },
        "nteract": {
          "transient": {
            "deleting": false
          }
        },
        "gather": {
          "logged": 1627339179856
        }
      }
    },
    {
      "cell_type": "markdown",
      "source": [
        "## Scaling the training process with compute clusters"
      ],
      "metadata": {
        "nteract": {
          "transient": {
            "deleting": false
          }
        }
      }
    },
    {
      "cell_type": "code",
      "source": [
        "from azureml.core import Workspace, Experiment\r\n",
        "from azureml.core import ScriptRunConfig\r\n",
        "\r\n",
        "ws = Workspace.from_config()\r\n",
        "target = ws.compute_targets['cpu-sm-cluster']\r\n",
        "\r\n",
        "script = ScriptRunConfig(\r\n",
        "    source_directory='greeter-job',\r\n",
        "    script='greeter.py',\r\n",
        "    compute_target=target,\r\n",
        "    arguments=['--greet-name', 'packt']\r\n",
        ")\r\n",
        "\r\n",
        "exp = Experiment(ws, 'greet-packt')\r\n",
        "run = exp.submit(script)\r\n",
        "print(run.get_portal_url())\r\n",
        "run.wait_for_completion(show_output=True)"
      ],
      "outputs": [],
      "execution_count": null,
      "metadata": {
        "collapsed": true,
        "jupyter": {
          "source_hidden": false,
          "outputs_hidden": false
        },
        "nteract": {
          "transient": {
            "deleting": false
          }
        },
        "gather": {
          "logged": 1627355948932
        }
      }
    },
    {
      "cell_type": "markdown",
      "source": [
        "### Exploring the outputs and logs of a run"
      ],
      "metadata": {
        "nteract": {
          "transient": {
            "deleting": false
          }
        }
      }
    },
    {
      "cell_type": "code",
      "source": [
        "from azureml.widgets import RunDetails\r\n",
        "\r\n",
        "run = exp.submit(script)\r\n",
        "RunDetails(run).show()"
      ],
      "outputs": [],
      "execution_count": null,
      "metadata": {
        "collapsed": true,
        "jupyter": {
          "source_hidden": false,
          "outputs_hidden": false
        },
        "nteract": {
          "transient": {
            "deleting": false
          }
        },
        "gather": {
          "logged": 1627363885549
        }
      }
    },
    {
      "cell_type": "code",
      "source": [
        "run.get_details_with_logs()"
      ],
      "outputs": [],
      "execution_count": null,
      "metadata": {
        "collapsed": true,
        "jupyter": {
          "source_hidden": false,
          "outputs_hidden": false
        },
        "nteract": {
          "transient": {
            "deleting": false
          }
        },
        "gather": {
          "logged": 1627363944979
        }
      }
    },
    {
      "cell_type": "markdown",
      "source": [
        "### Understanding execution environments"
      ],
      "metadata": {
        "nteract": {
          "transient": {
            "deleting": false
          }
        }
      }
    },
    {
      "cell_type": "code",
      "source": [
        "from azureml.core import Workspace\r\n",
        "\r\n",
        "ws = Workspace.from_config()"
      ],
      "outputs": [],
      "execution_count": null,
      "metadata": {
        "collapsed": true,
        "jupyter": {
          "source_hidden": false,
          "outputs_hidden": false
        },
        "nteract": {
          "transient": {
            "deleting": false
          }
        },
        "gather": {
          "logged": 1627356398679
        }
      }
    },
    {
      "cell_type": "code",
      "source": [
        "from azureml.core import Environment\r\n",
        "\r\n",
        "minimal_env = Environment.get(ws, name=\"AzureML-Minimal\")\r\n",
        "\r\n",
        "print(minimal_env.name, minimal_env.version)\r\n",
        "print(minimal_env.python.conda_dependencies.serialize_to_string())"
      ],
      "outputs": [],
      "execution_count": null,
      "metadata": {
        "collapsed": true,
        "jupyter": {
          "source_hidden": false,
          "outputs_hidden": false
        },
        "nteract": {
          "transient": {
            "deleting": false
          }
        },
        "gather": {
          "logged": 1627356422235
        }
      }
    },
    {
      "cell_type": "code",
      "source": [
        "from azureml.core import Experiment, ScriptRunConfig\r\n",
        "\r\n",
        "target = ws.compute_targets['cpu-sm-cluster']\r\n",
        "\r\n",
        "script = ScriptRunConfig(\r\n",
        "    source_directory='greeter-job',\r\n",
        "    script='greeter.py',\r\n",
        "    environment=minimal_env,\r\n",
        "    compute_target=target,\r\n",
        "    arguments=['--greet-name', 'packt']\r\n",
        ")\r\n",
        "\r\n",
        "exp = Experiment(ws, 'greet-packt')\r\n",
        "run = exp.submit(script)\r\n",
        "print(run.get_portal_url())\r\n",
        "run.wait_for_completion(show_output=True)"
      ],
      "outputs": [],
      "execution_count": null,
      "metadata": {
        "collapsed": true,
        "jupyter": {
          "source_hidden": false,
          "outputs_hidden": false
        },
        "nteract": {
          "transient": {
            "deleting": false
          }
        },
        "gather": {
          "logged": 1627356849843
        }
      }
    },
    {
      "cell_type": "code",
      "source": [
        "from azureml.core import Environment\r\n",
        "\r\n",
        "banner_env = Environment.from_conda_specification(\r\n",
        "                            name = \"banner-env\",\r\n",
        "                            file_path = \"greeter-banner-job.yml\")\r\n",
        "banner_env.environment_variables[\"GREET_HEADER\"] = \\\r\n",
        "                                 \"Env. var. header:\""
      ],
      "outputs": [],
      "execution_count": null,
      "metadata": {
        "collapsed": true,
        "jupyter": {
          "source_hidden": false,
          "outputs_hidden": false
        },
        "nteract": {
          "transient": {
            "deleting": false
          }
        },
        "gather": {
          "logged": 1627357987007
        }
      }
    },
    {
      "cell_type": "code",
      "source": [
        "# To register in the workspace, uncomment the following line\r\n",
        "# banner_env.register(ws)"
      ],
      "outputs": [],
      "execution_count": null,
      "metadata": {
        "collapsed": true,
        "jupyter": {
          "source_hidden": false,
          "outputs_hidden": false
        },
        "nteract": {
          "transient": {
            "deleting": false
          }
        },
        "gather": {
          "logged": 1627358299508
        }
      }
    },
    {
      "cell_type": "code",
      "source": [
        "script = ScriptRunConfig(\r\n",
        "    source_directory='greeter-banner-job',\r\n",
        "    script='greeter.py',\r\n",
        "    environment=banner_env,\r\n",
        "    compute_target=target,\r\n",
        "    arguments=['--greet-name', 'packt']\r\n",
        ")\r\n",
        "\r\n",
        "exp = Experiment(ws, 'greet-packt')\r\n",
        "run = exp.submit(script)\r\n",
        "print(run.get_portal_url())\r\n",
        "run.wait_for_completion(show_output=True)"
      ],
      "outputs": [],
      "execution_count": null,
      "metadata": {
        "collapsed": true,
        "jupyter": {
          "source_hidden": false,
          "outputs_hidden": false
        },
        "nteract": {
          "transient": {
            "deleting": false
          }
        },
        "gather": {
          "logged": 1627358346712
        }
      }
    },
    {
      "cell_type": "markdown",
      "source": [
        "### Training the diabetes model on a compute cluster"
      ],
      "metadata": {
        "nteract": {
          "transient": {
            "deleting": false
          }
        }
      }
    },
    {
      "cell_type": "code",
      "source": [
        "!pip show scikit-learn"
      ],
      "outputs": [],
      "execution_count": null,
      "metadata": {
        "collapsed": true,
        "jupyter": {
          "source_hidden": false,
          "outputs_hidden": false
        },
        "nteract": {
          "transient": {
            "deleting": false
          }
        }
      }
    },
    {
      "cell_type": "code",
      "source": [
        "import sklearn\r\n",
        "print(sklearn.__version__)"
      ],
      "outputs": [],
      "execution_count": null,
      "metadata": {
        "collapsed": true,
        "jupyter": {
          "source_hidden": false,
          "outputs_hidden": false
        },
        "nteract": {
          "transient": {
            "deleting": false
          }
        },
        "gather": {
          "logged": 1627360078695
        }
      }
    },
    {
      "cell_type": "code",
      "source": [
        "from azureml.core import Environment\r\n",
        "from azureml.core.conda_dependencies import CondaDependencies \r\n",
        "import sklearn\r\n",
        "\r\n",
        "diabetes_env = Environment(name=\"diabetes-training-env\")\r\n",
        "diabetes_env.python.conda_dependencies = CondaDependencies()\r\n",
        "diabetes_env.python.conda_dependencies.add_conda_package(f\"scikit-learn=={sklearn.__version__}\")\r\n",
        "diabetes_env.python.conda_dependencies.add_pip_package(\"azureml-dataprep[pandas]\")\r\n",
        "# Optionally \r\n",
        "# import joblib\r\n",
        "# diabetes_env.python.conda_dependencies.add_pip_package(f\"joblib=={joblib.__version__}\")\r\n",
        "# Alternatively you can use the following single line code:\r\n",
        "# diabetes_env.python.conda_dependencies = CondaDependencies.create(\r\n",
        "#               conda_packages=[f\"scikit-learn=={sklearn.__version__}\"],\r\n",
        "#               pip_packages=[\"azureml-dataprep[pandas]\", f\"joblib=={joblib.__version__}\"])"
      ],
      "outputs": [],
      "execution_count": null,
      "metadata": {
        "collapsed": true,
        "jupyter": {
          "source_hidden": false,
          "outputs_hidden": false
        },
        "nteract": {
          "transient": {
            "deleting": false
          }
        },
        "gather": {
          "logged": 1630829893977
        }
      }
    },
    {
      "cell_type": "code",
      "source": [
        "from azureml.core import Workspace, Experiment\r\n",
        "from azureml.core import ScriptRunConfig\r\n",
        "\r\n",
        "ws = Workspace.from_config()\r\n",
        "target = ws.compute_targets['cpu-sm-cluster']\r\n",
        "\r\n",
        "script = ScriptRunConfig(\r\n",
        "    source_directory='diabetes-training',\r\n",
        "    script='training.py',\r\n",
        "    environment=diabetes_env,\r\n",
        "    compute_target=target,\r\n",
        "    arguments=['--alpha', 0.01]\r\n",
        ")\r\n",
        "\r\n",
        "exp = Experiment(ws, 'chapter08-diabetes')\r\n",
        "run = exp.submit(script)\r\n",
        "run.wait_for_completion(show_output=True)"
      ],
      "outputs": [],
      "execution_count": null,
      "metadata": {
        "collapsed": true,
        "jupyter": {
          "source_hidden": false,
          "outputs_hidden": false
        },
        "nteract": {
          "transient": {
            "deleting": false
          }
        },
        "gather": {
          "logged": 1630830722464
        }
      }
    }
  ],
  "metadata": {
    "kernelspec": {
      "name": "python3-azureml",
      "language": "python",
      "display_name": "Python 3.6 - AzureML"
    },
    "language_info": {
      "name": "python",
      "version": "3.6.9",
      "mimetype": "text/x-python",
      "codemirror_mode": {
        "name": "ipython",
        "version": 3
      },
      "pygments_lexer": "ipython3",
      "nbconvert_exporter": "python",
      "file_extension": ".py"
    },
    "kernel_info": {
      "name": "python3-azureml"
    },
    "microsoft": {
      "host": {
        "AzureML": {
          "notebookHasBeenCompleted": true
        }
      }
    },
    "nteract": {
      "version": "nteract-front-end@1.0.0"
    }
  },
  "nbformat": 4,
  "nbformat_minor": 2
}
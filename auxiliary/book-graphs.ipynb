{
  "cells": [
    {
      "cell_type": "markdown",
      "source": [
        "# Book graphs\r\n",
        "\r\n",
        "This notebooks contains the code to generate a couple of graphs added within the book."
      ],
      "metadata": {
        "nteract": {
          "transient": {
            "deleting": false
          }
        }
      }
    },
    {
      "cell_type": "markdown",
      "source": [
        "## Figure 9.2\r\n",
        "\r\n",
        "Advanced discrete and continuous hyperparameter value distributions. Sample values are ordered. X axis shows the ordered value’s index number."
      ],
      "metadata": {
        "nteract": {
          "transient": {
            "deleting": false
          }
        }
      }
    },
    {
      "cell_type": "code",
      "source": [
        "import numpy as np\r\n",
        "import matplotlib.pyplot as plt\r\n",
        "\r\n",
        "mu=5\r\n",
        "sigma=1\r\n",
        "sample_rate = 1000\r\n",
        "normal_data = np.random.normal(mu, sigma, sample_rate)\r\n",
        "\r\n",
        "low = round(min(normal_data))\r\n",
        "high = round(max(normal_data))\r\n",
        "uniform_data = np.random.uniform(low, high, sample_rate)\r\n",
        "\r\n",
        "\r\n",
        "def quniform():\r\n",
        "    plt.subplot(2,2,1)\r\n",
        "    plt.title(f\"Uniform distribution with low={low} and high={high}\")\r\n",
        "    uniform_data.sort()\r\n",
        "    plt.plot(uniform_data, dashes=[6, 2], color=\"m\", label=\"Continuous uniform\")\r\n",
        "    for q in [1,2]:\r\n",
        "        # round(uniform(low, high) / q) * q\r\n",
        "        values = (uniform_data/q).round()*q \r\n",
        "        values.sort()\r\n",
        "        plt.plot(values, label=f'Discrete quniform with q={q}')\r\n",
        "    plt.legend(loc='best')\r\n",
        "\r\n",
        "def qloguniform():\r\n",
        "    plt.subplot(2,2,3)\r\n",
        "    plt.title(f\"Log uniform distribution with low={low} and high={high}\")\r\n",
        "    log_uniform_data = np.exp(uniform_data)\r\n",
        "    log_uniform_data.sort()\r\n",
        "    plt.plot(log_uniform_data, dashes=[6, 2], color=\"m\", label=\"Continuous loguniform\")\r\n",
        "    #plt.yscale('log')\r\n",
        "    for q in [1,1000]:\r\n",
        "        values = (log_uniform_data/q).round()*q \r\n",
        "        values.sort()\r\n",
        "        plt.plot(values, label=f'Discrete quniform with q={q}')\r\n",
        "    plt.legend(loc='best')\r\n",
        "\r\n",
        "def qnormal():\r\n",
        "    plt.subplot(2,2,2)\r\n",
        "    plt.title(f\"Normal distribution with μ={mu} and σ={sigma}\")\r\n",
        "    normal_data.sort()\r\n",
        "    plt.plot(normal_data, dashes=[6, 2], color=\"m\", label=\"Continuous normal\")\r\n",
        "    for q in [1,2]:\r\n",
        "        #  round(normal(mu, sigma) / q) * q\r\n",
        "        values = (normal_data/q).round()*q \r\n",
        "        values.sort()\r\n",
        "        plt.plot(values, label=f'Discrete qnormal with q={q}') \r\n",
        "    plt.legend(loc='best')\r\n",
        "\r\n",
        "def qlognormal():\r\n",
        "    plt.subplot(2,2,4)\r\n",
        "    plt.title(f\"Log normal distribution with μ={mu} and σ={sigma}\")\r\n",
        "    log_normal_data = np.exp(normal_data)\r\n",
        "    log_normal_data.sort()\r\n",
        "    plt.plot(log_normal_data, dashes=[6, 2], color=\"m\", label=\"Continuous lognormal\")\r\n",
        "    #plt.yscale('log')\r\n",
        "    for q in [1,1000]:\r\n",
        "        values = (log_normal_data/q).round()*q \r\n",
        "        values.sort()\r\n",
        "        plt.plot(values, label=f'Discrete qlognormal with q={q}')\r\n",
        "    plt.legend(loc='best')\r\n",
        "\r\n",
        "plt.figure(figsize=(16,12), dpi=1200)\r\n",
        "\r\n",
        "quniform()\r\n",
        "qloguniform()\r\n",
        "qnormal()\r\n",
        "qlognormal()\r\n"
      ],
      "outputs": [],
      "execution_count": null,
      "metadata": {
        "jupyter": {
          "source_hidden": false,
          "outputs_hidden": false
        },
        "nteract": {
          "transient": {
            "deleting": false
          }
        },
        "gather": {
          "logged": 1630824236736
        }
      }
    }
  ],
  "metadata": {
    "kernelspec": {
      "name": "python3-azureml",
      "language": "python",
      "display_name": "Python 3.6 - AzureML"
    },
    "language_info": {
      "name": "python",
      "version": "3.6.9",
      "mimetype": "text/x-python",
      "codemirror_mode": {
        "name": "ipython",
        "version": 3
      },
      "pygments_lexer": "ipython3",
      "nbconvert_exporter": "python",
      "file_extension": ".py"
    },
    "kernel_info": {
      "name": "python3-azureml"
    },
    "microsoft": {
      "host": {
        "AzureML": {
          "notebookHasBeenCompleted": true
        }
      }
    },
    "nteract": {
      "version": "nteract-front-end@1.0.0"
    }
  },
  "nbformat": 4,
  "nbformat_minor": 2
}
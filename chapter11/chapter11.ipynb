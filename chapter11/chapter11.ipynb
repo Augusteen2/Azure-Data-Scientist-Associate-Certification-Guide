{
  "cells": [
    {
      "cell_type": "markdown",
      "source": [
        "# Chapter 11 code snippets\r\n",
        "This notebook contains all code snippets from chapter 11."
      ],
      "metadata": {
        "nteract": {
          "transient": {
            "deleting": false
          }
        }
      }
    },
    {
      "cell_type": "markdown",
      "source": [
        "## Authoring a pipeline"
      ],
      "metadata": {
        "nteract": {
          "transient": {
            "deleting": false
          }
        }
      }
    },
    {
      "cell_type": "code",
      "source": [
        "from azureml.core import Workspace\r\n",
        "\r\n",
        "ws = Workspace.from_config()\r\n",
        "loans_ds = ws.datasets['loans']\r\n",
        "compute_target = ws.compute_targets['cpu-sm-cluster']"
      ],
      "outputs": [],
      "execution_count": null,
      "metadata": {
        "collapsed": true,
        "jupyter": {
          "source_hidden": false,
          "outputs_hidden": false
        },
        "nteract": {
          "transient": {
            "deleting": false
          }
        },
        "gather": {
          "logged": 1629455845090
        }
      }
    },
    {
      "cell_type": "code",
      "source": [
        "from azureml.core import RunConfiguration\r\n",
        "\r\n",
        "runconfig = RunConfiguration()\r\n",
        "runconfig.environment = ws.environments['AzureML-Tutorial']"
      ],
      "outputs": [],
      "execution_count": null,
      "metadata": {
        "collapsed": true,
        "jupyter": {
          "source_hidden": false,
          "outputs_hidden": false
        },
        "nteract": {
          "transient": {
            "deleting": false
          }
        },
        "gather": {
          "logged": 1629455848609
        }
      }
    },
    {
      "cell_type": "code",
      "source": [
        "from azureml.pipeline.core import PipelineData\r\n",
        "\r\n",
        "step01_output = PipelineData(\r\n",
        "    \"training_data\",\r\n",
        "    datastore= ws.get_default_datastore(),\r\n",
        "    is_directory=True\r\n",
        ")"
      ],
      "outputs": [],
      "execution_count": null,
      "metadata": {
        "collapsed": true,
        "jupyter": {
          "source_hidden": false,
          "outputs_hidden": false
        },
        "nteract": {
          "transient": {
            "deleting": false
          }
        },
        "gather": {
          "logged": 1629455850074
        }
      }
    },
    {
      "cell_type": "code",
      "source": [
        "from azureml.pipeline.steps import PythonScriptStep\r\n",
        "\r\n",
        "step_01 = PythonScriptStep(\r\n",
        "   'prepare_data.py', \r\n",
        "    source_directory='step01',\r\n",
        "    arguments = [\r\n",
        "        \"--dataset\", loans_ds.as_named_input('loans'), \r\n",
        "        \"--output-path\", step01_output\r\n",
        "        ],\r\n",
        "    name='Prepare data',\r\n",
        "    runconfig=runconfig,\r\n",
        "    compute_target=compute_target,\r\n",
        "    outputs=[step01_output],\r\n",
        "    allow_reuse=True\r\n",
        ")"
      ],
      "outputs": [],
      "execution_count": null,
      "metadata": {
        "collapsed": true,
        "jupyter": {
          "source_hidden": false,
          "outputs_hidden": false
        },
        "nteract": {
          "transient": {
            "deleting": false
          }
        },
        "gather": {
          "logged": 1629455851849
        }
      }
    },
    {
      "cell_type": "code",
      "source": [
        "from azureml.pipeline.core import PipelineParameter\r\n",
        "\r\n",
        "learning_rate_param = PipelineParameter(name=\"learning_rate\", default_value=0.05)"
      ],
      "outputs": [],
      "execution_count": null,
      "metadata": {
        "collapsed": true,
        "jupyter": {
          "source_hidden": false,
          "outputs_hidden": false
        },
        "nteract": {
          "transient": {
            "deleting": false
          }
        },
        "gather": {
          "logged": 1629455853699
        }
      }
    },
    {
      "cell_type": "code",
      "source": [
        "from azureml.data import OutputFileDatasetConfig\r\n",
        "\r\n",
        "datastore = ws.get_default_datastore()\r\n",
        "step02_output = OutputFileDatasetConfig(\r\n",
        "    name= \"model_store\",\r\n",
        "    destination=(datastore, '/models/loans/'))"
      ],
      "outputs": [],
      "execution_count": null,
      "metadata": {
        "collapsed": true,
        "jupyter": {
          "source_hidden": false,
          "outputs_hidden": false
        },
        "nteract": {
          "transient": {
            "deleting": false
          }
        },
        "gather": {
          "logged": 1629455857755
        }
      }
    },
    {
      "cell_type": "code",
      "source": [
        "step_02 = PythonScriptStep(\r\n",
        "   'train_model.py', \r\n",
        "    source_directory='step02',\r\n",
        "    arguments=[\r\n",
        "        \"--learning-rate\", learning_rate_param,\r\n",
        "        \"--input-path\", step01_output,\r\n",
        "        \"--output-path\", step02_output\r\n",
        "        ],\r\n",
        "    name='Train model',\r\n",
        "    runconfig=runconfig,\r\n",
        "    compute_target=compute_target,\r\n",
        "    inputs=[step01_output],\r\n",
        "    outputs=[step02_output]\r\n",
        ")"
      ],
      "outputs": [],
      "execution_count": null,
      "metadata": {
        "collapsed": true,
        "jupyter": {
          "source_hidden": false,
          "outputs_hidden": false
        },
        "nteract": {
          "transient": {
            "deleting": false
          }
        },
        "gather": {
          "logged": 1629455877705
        }
      }
    },
    {
      "cell_type": "code",
      "source": [
        "from azureml.pipeline.core import Pipeline\r\n",
        "\r\n",
        "pipeline = Pipeline(workspace=ws, steps=[step_01, step_02])"
      ],
      "outputs": [],
      "execution_count": null,
      "metadata": {
        "collapsed": true,
        "jupyter": {
          "source_hidden": false,
          "outputs_hidden": false
        },
        "nteract": {
          "transient": {
            "deleting": false
          }
        },
        "gather": {
          "logged": 1629455880607
        }
      }
    },
    {
      "cell_type": "code",
      "source": [
        "from azureml.core import Experiment\r\n",
        "\r\n",
        "experiment = Experiment(ws, \"chapter-11-runs\")\r\n",
        "pipeline_run = experiment.submit(\r\n",
        "    pipeline,\r\n",
        "    pipeline_parameters= {\r\n",
        "        \"learning_rate\" : 0.5\r\n",
        "    }\r\n",
        ")\r\n",
        "pipeline_run.wait_for_completion()"
      ],
      "outputs": [],
      "execution_count": null,
      "metadata": {
        "collapsed": true,
        "jupyter": {
          "source_hidden": false,
          "outputs_hidden": false
        },
        "nteract": {
          "transient": {
            "deleting": false
          }
        },
        "gather": {
          "logged": 1629456298670
        }
      }
    },
    {
      "cell_type": "code",
      "source": [
        "# If you wanted to pass the dataset as a pipeline parameter, use the following code\r\n",
        "# from azureml.data.dataset_consumption_config import DatasetConsumptionConfig\r\n",
        "# dataset_pipeline_param = PipelineParameter(name=\"dataset_param\", default_value=loans_ds)\r\n",
        "# dataset_consumption = DatasetConsumptionConfig(\"loans\", dataset_pipeline_param)\r\n",
        "# step_01 = PythonScriptStep(\r\n",
        "#    'prepare_data.py', \r\n",
        "#     source_directory='step01',\r\n",
        "#     arguments = [\r\n",
        "#         \"--dataset\", dataset_consumption, \r\n",
        "#         \"--output-path\", step01_output\r\n",
        "#         ],\r\n",
        "#     name='Prepare data',\r\n",
        "#     runconfig=runconfig,\r\n",
        "#     compute_target=compute_target,\r\n",
        "#     outputs=[step01_output],\r\n",
        "#     allow_reuse=True\r\n",
        "# )"
      ],
      "outputs": [],
      "execution_count": null,
      "metadata": {
        "collapsed": true,
        "jupyter": {
          "source_hidden": false,
          "outputs_hidden": false
        },
        "nteract": {
          "transient": {
            "deleting": false
          }
        },
        "gather": {
          "logged": 1628948820633
        }
      }
    },
    {
      "cell_type": "markdown",
      "source": [
        "### Troubleshooting code issues"
      ],
      "metadata": {
        "nteract": {
          "transient": {
            "deleting": false
          }
        }
      }
    },
    {
      "cell_type": "code",
      "source": [
        "train_step_run = pipeline_run.find_step_run(\"Train model\")[0]\r\n",
        "train_step_run.get_details_with_logs()"
      ],
      "outputs": [],
      "execution_count": null,
      "metadata": {
        "collapsed": true,
        "jupyter": {
          "source_hidden": false,
          "outputs_hidden": false
        },
        "nteract": {
          "transient": {
            "deleting": false
          }
        },
        "gather": {
          "logged": 1628948823611
        }
      }
    },
    {
      "cell_type": "markdown",
      "source": [
        "## Publishing a pipeline to expose it as an endpoint"
      ],
      "metadata": {
        "nteract": {
          "transient": {
            "deleting": false
          }
        }
      }
    },
    {
      "cell_type": "code",
      "source": [
        "published_pipeline = pipeline.publish(\r\n",
        "    \"Loans training pipeline\", \r\n",
        "    description=\"A pipeline to train a LightGBM model\")"
      ],
      "outputs": [],
      "execution_count": null,
      "metadata": {
        "collapsed": true,
        "jupyter": {
          "source_hidden": false,
          "outputs_hidden": false
        },
        "nteract": {
          "transient": {
            "deleting": false
          }
        },
        "gather": {
          "logged": 1628948825587
        }
      }
    },
    {
      "cell_type": "code",
      "source": [
        "from azureml.core.authentication import InteractiveLoginAuthentication\r\n",
        "\r\n",
        "auth = InteractiveLoginAuthentication()\r\n",
        "aad_token = auth.get_authentication_header()"
      ],
      "outputs": [],
      "execution_count": null,
      "metadata": {
        "collapsed": true,
        "jupyter": {
          "source_hidden": false,
          "outputs_hidden": false
        },
        "nteract": {
          "transient": {
            "deleting": false
          }
        },
        "gather": {
          "logged": 1628948825715
        }
      }
    },
    {
      "cell_type": "code",
      "source": [
        "import requests\r\n",
        "response = requests.post(published_pipeline.endpoint, \r\n",
        "                         headers=aad_token, \r\n",
        "                         json={\"ExperimentName\": \"chapter-11-runs\",\r\n",
        "                               \"ParameterAssignments\": {\"learning_rate\" : 0.02}})\r\n",
        "\r\n",
        "print(f\"Made a POST request to {published_pipeline.endpoint} and got {response.status_code}.\")\r\n",
        "print(f\"The portal url for the run is {response.json()['RunUrl']}\")"
      ],
      "outputs": [],
      "execution_count": null,
      "metadata": {
        "collapsed": true,
        "jupyter": {
          "source_hidden": false,
          "outputs_hidden": false
        },
        "nteract": {
          "transient": {
            "deleting": false
          }
        },
        "gather": {
          "logged": 1628948827184
        }
      }
    },
    {
      "cell_type": "markdown",
      "source": [
        "## Scheduling a recuring pipeline"
      ],
      "metadata": {
        "nteract": {
          "transient": {
            "deleting": false
          }
        }
      }
    },
    {
      "cell_type": "code",
      "source": [
        "from azureml.pipeline.core.schedule import ScheduleRecurrence, Schedule\r\n",
        "from datetime import datetime\r\n",
        "\r\n",
        "recurrence = ScheduleRecurrence(frequency=\"Month\", \r\n",
        "                                interval=1, \r\n",
        "                                start_time = datetime.now())\r\n",
        "\r\n",
        "schedule = Schedule.create(workspace=ws, name=\"chapter-11-schedule\",\r\n",
        "                           pipeline_id=published_pipeline.id, \r\n",
        "                           experiment_name=\"chapter-11-scheduled-run\",\r\n",
        "                           recurrence=recurrence,\r\n",
        "                           wait_for_provisioning=True,\r\n",
        "                           description=\"Schedule to retrain model\")\r\n",
        "\r\n",
        "print(\"Created schedule with id: {}\".format(schedule.id))"
      ],
      "outputs": [],
      "execution_count": null,
      "metadata": {
        "collapsed": true,
        "jupyter": {
          "source_hidden": false,
          "outputs_hidden": false
        },
        "nteract": {
          "transient": {
            "deleting": false
          }
        },
        "gather": {
          "logged": 1628948834678
        }
      }
    },
    {
      "cell_type": "code",
      "source": [
        "from azureml.pipeline.core.schedule import Schedule\r\n",
        "\r\n",
        "schedules = Schedule.list(ws, active_only=True) \r\n",
        "print(\"Your workspace has the following schedules set up:\")\r\n",
        "for schedule in schedules:\r\n",
        "    print(f\"Disabling {schedule.id} (Published pipeline: {schedule.pipeline_id}\")\r\n",
        "    schedule.disable(wait_for_provisioning=True)"
      ],
      "outputs": [],
      "execution_count": null,
      "metadata": {
        "collapsed": true,
        "jupyter": {
          "source_hidden": false,
          "outputs_hidden": false
        },
        "nteract": {
          "transient": {
            "deleting": false
          }
        },
        "gather": {
          "logged": 1628948850201
        }
      }
    }
  ],
  "metadata": {
    "kernelspec": {
      "name": "python3-azureml",
      "language": "python",
      "display_name": "Python 3.6 - AzureML"
    },
    "language_info": {
      "name": "python",
      "version": "3.6.9",
      "mimetype": "text/x-python",
      "codemirror_mode": {
        "name": "ipython",
        "version": 3
      },
      "pygments_lexer": "ipython3",
      "nbconvert_exporter": "python",
      "file_extension": ".py"
    },
    "microsoft": {
      "host": {
        "AzureML": {
          "notebookHasBeenCompleted": true
        }
      }
    },
    "nteract": {
      "version": "nteract-front-end@1.0.0"
    },
    "kernel_info": {
      "name": "python3-azureml"
    }
  },
  "nbformat": 4,
  "nbformat_minor": 2
}
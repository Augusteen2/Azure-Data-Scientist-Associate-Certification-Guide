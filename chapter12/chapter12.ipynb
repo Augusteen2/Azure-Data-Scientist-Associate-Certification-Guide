{
  "cells": [
    {
      "cell_type": "markdown",
      "source": [
        "# Chapter 12 code snippets\r\n",
        "This notebook contains all code snippets from chapter 12."
      ],
      "metadata": {
        "nteract": {
          "transient": {
            "deleting": false
          }
        }
      }
    },
    {
      "cell_type": "markdown",
      "source": [
        "## Registering models"
      ],
      "metadata": {
        "nteract": {
          "transient": {
            "deleting": false
          }
        }
      }
    },
    {
      "cell_type": "code",
      "source": [
        "from azureml.core import Workspace, Experiment\r\n",
        "\r\n",
        "ws = Workspace.from_config()\r\n",
        "loans_ds = ws.datasets['loans']\r\n",
        "experiment = Experiment(ws, \"chapter-12-train\")"
      ],
      "outputs": [],
      "execution_count": null,
      "metadata": {
        "collapsed": true,
        "jupyter": {
          "source_hidden": false,
          "outputs_hidden": false
        },
        "nteract": {
          "transient": {
            "deleting": false
          }
        },
        "gather": {
          "logged": 1625322073364
        }
      }
    },
    {
      "cell_type": "code",
      "source": [
        "training_data, validation_data = loans_ds.random_split(\r\n",
        "                             percentage = 0.8, seed=42)\r\n",
        "\r\n",
        "X_train = training_data.drop_columns('approved_loan') \\\r\n",
        "            .to_pandas_dataframe()\r\n",
        "y_train = training_data.keep_columns('approved_loan') \\\r\n",
        "            .to_pandas_dataframe().values.ravel()\r\n",
        "\r\n",
        "X_validate = validation_data.drop_columns('approved_loan') \\\r\n",
        "                .to_pandas_dataframe()\r\n",
        "y_validate = validation_data.keep_columns('approved_loan') \\\r\n",
        "                .to_pandas_dataframe().values.ravel()"
      ],
      "outputs": [],
      "execution_count": null,
      "metadata": {
        "collapsed": true,
        "jupyter": {
          "source_hidden": false,
          "outputs_hidden": false
        },
        "nteract": {
          "transient": {
            "deleting": false
          }
        },
        "gather": {
          "logged": 1625335954425
        }
      }
    },
    {
      "cell_type": "code",
      "source": [
        "from sklearn.linear_model import LogisticRegression\r\n",
        "from sklearn.metrics import accuracy_score\r\n",
        "\r\n",
        "run = experiment.start_logging()\r\n",
        "\r\n",
        "sk_model = LogisticRegression()\r\n",
        "sk_model.fit(X_train, y_train)\r\n",
        "\r\n",
        "y_predicted = sk_model.predict(X_validate)\r\n",
        "accuracy = accuracy_score(y_validate, y_predicted)\r\n",
        "print(accuracy)\r\n",
        "\r\n",
        "run.log(\"accuracy\", accuracy)\r\n",
        "\r\n",
        "run.complete()"
      ],
      "outputs": [],
      "execution_count": null,
      "metadata": {
        "collapsed": true,
        "jupyter": {
          "source_hidden": false,
          "outputs_hidden": false
        },
        "nteract": {
          "transient": {
            "deleting": false
          }
        },
        "gather": {
          "logged": 1625335965189
        }
      }
    },
    {
      "cell_type": "code",
      "source": [
        "import os\r\n",
        "import joblib\r\n",
        "\r\n",
        "os.makedirs('./model', exist_ok=True)\r\n",
        "joblib.dump(value=sk_model,\r\n",
        "            filename=\r\n",
        "                os.path.join('./model/','model.joblib'))"
      ],
      "outputs": [],
      "execution_count": null,
      "metadata": {
        "collapsed": true,
        "jupyter": {
          "source_hidden": false,
          "outputs_hidden": false
        },
        "nteract": {
          "transient": {
            "deleting": false
          }
        },
        "gather": {
          "logged": 1625335965331
        }
      }
    },
    {
      "cell_type": "code",
      "source": [
        "from sklearn import __version__ as sk_version\r\n",
        "from azureml.core import Model\r\n",
        "\r\n",
        "# run.upload_folder(\"model\", \"./model\")\r\n",
        "model = run.register_model(\r\n",
        "        model_name=\"chapter12-loans\",\r\n",
        "        model_path=\"./model/\",\r\n",
        "        tags={ \"accuracy\": accuracy},\r\n",
        "        properties={ \"accuracy\": accuracy},\r\n",
        "        model_framework= Model.Framework.SCIKITLEARN,\r\n",
        "        model_framework_version= sk_version,\r\n",
        "        datasets=[(\"training\", loans_ds)]\r\n",
        ")\r\n"
      ],
      "outputs": [],
      "execution_count": null,
      "metadata": {
        "collapsed": true,
        "jupyter": {
          "source_hidden": false,
          "outputs_hidden": false
        },
        "nteract": {
          "transient": {
            "deleting": false
          }
        },
        "gather": {
          "logged": 1624832282824
        }
      }
    },
    {
      "cell_type": "code",
      "source": [
        "from azureml.core import Model\r\n",
        "offline_model = Model.register(\r\n",
        "        ws,\r\n",
        "        model_name=\"chapter12-pre-trained-loans\",\r\n",
        "        model_path=\"./model/\",\r\n",
        "        properties={ \"accuracy\": 0.828},\r\n",
        "        model_framework= \"ScikitLearn\",\r\n",
        "        model_framework_version= \"0.22.2.post1\"\r\n",
        ")"
      ],
      "outputs": [],
      "execution_count": null,
      "metadata": {
        "collapsed": true,
        "jupyter": {
          "source_hidden": false,
          "outputs_hidden": false
        },
        "nteract": {
          "transient": {
            "deleting": false
          }
        },
        "gather": {
          "logged": 1624833775523
        }
      }
    },
    {
      "cell_type": "code",
      "source": [
        "# This code snippet is from the next section\r\n",
        "from azureml.core import Model\r\n",
        "from azureml.core.resource_configuration import ResourceConfiguration\r\n",
        "\r\n",
        "model = Model.register(workspace=ws,\r\n",
        "                       model_name=\"chapter12-demanding-loans\",\r\n",
        "                       model_path=\"./model/\",\r\n",
        "                       model_framework=Model.Framework.SCIKITLEARN, \r\n",
        "                       model_framework_version=\"0.22.2.post1\",\r\n",
        "                       resource_configuration=ResourceConfiguration(cpu=1, memory_in_gb=1.5))"
      ],
      "outputs": [],
      "execution_count": null,
      "metadata": {
        "collapsed": true,
        "jupyter": {
          "source_hidden": false,
          "outputs_hidden": false
        },
        "nteract": {
          "transient": {
            "deleting": false
          }
        }
      }
    },
    {
      "cell_type": "code",
      "source": [
        "from sklearn.linear_model import RidgeClassifier\r\n",
        "\r\n",
        "new_model = RidgeClassifier(solver='svd')\r\n",
        "new_model.fit(X_train, y_train)\r\n",
        "y_predicted = new_model.predict(X_validate)\r\n",
        "accuracy = accuracy_score(y_validate, y_predicted)\r\n",
        "\r\n",
        "registered_model = Model(ws, name=\"chapter12-loans\")\r\n",
        "r_version = registered_model.version\r\n",
        "r_acc = float(registered_model.properties['accuracy'])\r\n",
        "if accuracy > r_acc:\r\n",
        "    print(f\"New model has better accuracy {accuracy}\")\r\n",
        "else:\r\n",
        "    print(f\"Registered model with version {r_version}\" \\\r\n",
        "           \" has better accuracy {r_acc}\")"
      ],
      "outputs": [],
      "execution_count": null,
      "metadata": {
        "collapsed": true,
        "jupyter": {
          "source_hidden": false,
          "outputs_hidden": false
        },
        "nteract": {
          "transient": {
            "deleting": false
          }
        },
        "gather": {
          "logged": 1624835201006
        }
      }
    },
    {
      "cell_type": "code",
      "source": [
        "import shutil\r\n",
        "\r\n",
        "shutil.rmtree('./model',ignore_errors=True)"
      ],
      "outputs": [],
      "execution_count": null,
      "metadata": {
        "collapsed": true,
        "jupyter": {
          "source_hidden": false,
          "outputs_hidden": false
        },
        "nteract": {
          "transient": {
            "deleting": false
          }
        }
      }
    },
    {
      "cell_type": "markdown",
      "source": [
        "## Deploying real time endpoints"
      ],
      "metadata": {
        "nteract": {
          "transient": {
            "deleting": false
          }
        }
      }
    },
    {
      "cell_type": "code",
      "source": [
        "from azureml.core import Workspace, Model\r\n",
        "\r\n",
        "ws = Workspace.from_config()\r\n",
        "model = Model(ws, name=\"chapter12-loans\")"
      ],
      "outputs": [],
      "execution_count": null,
      "metadata": {
        "collapsed": true,
        "jupyter": {
          "source_hidden": false,
          "outputs_hidden": false
        },
        "nteract": {
          "transient": {
            "deleting": false
          }
        },
        "gather": {
          "logged": 1625420724010
        }
      }
    },
    {
      "cell_type": "code",
      "source": [
        "no_code_service = Model.deploy(ws, \"no-code-loans\", [model])\r\n",
        "no_code_service.wait_for_deployment(show_output=True)"
      ],
      "outputs": [],
      "execution_count": null,
      "metadata": {
        "collapsed": true,
        "jupyter": {
          "source_hidden": false,
          "outputs_hidden": false
        },
        "nteract": {
          "transient": {
            "deleting": false
          }
        },
        "gather": {
          "logged": 1625390651420
        }
      }
    },
    {
      "cell_type": "code",
      "source": [
        "print(no_code_service.scoring_uri)"
      ],
      "outputs": [],
      "execution_count": null,
      "metadata": {
        "collapsed": true,
        "jupyter": {
          "source_hidden": false,
          "outputs_hidden": false
        },
        "nteract": {
          "transient": {
            "deleting": false
          }
        },
        "gather": {
          "logged": 1625332522583
        }
      }
    },
    {
      "cell_type": "code",
      "source": [
        "import json\r\n",
        "\r\n",
        "input_payload = json.dumps({\r\n",
        "    'data': [\r\n",
        "        [2000, 2, 45],\r\n",
        "        [2000, 9, 45]\r\n",
        "    ],\r\n",
        "    'method': 'predict' # 'predict_proba'\r\n",
        "})\r\n",
        "\r\n",
        "output = no_code_service.run(input_payload)\r\n",
        "\r\n",
        "print(output)"
      ],
      "outputs": [],
      "execution_count": null,
      "metadata": {
        "collapsed": true,
        "jupyter": {
          "source_hidden": false,
          "outputs_hidden": false
        },
        "nteract": {
          "transient": {
            "deleting": false
          }
        },
        "gather": {
          "logged": 1625390775180
        }
      }
    },
    {
      "cell_type": "code",
      "source": [
        "import json\r\n",
        "\r\n",
        "# This payload will also work\r\n",
        "input_payload = json.dumps({\r\n",
        "    \"data\":[\r\n",
        "        {\r\n",
        "            \"income\": 2000,\r\n",
        "            \"credit_cards\": 2,\r\n",
        "            \"age\": 45\r\n",
        "        }\r\n",
        "    ],\r\n",
        "    \"method\": \"predict\"\r\n",
        "})\r\n",
        "\r\n",
        "output = no_code_service.run(input_payload)\r\n",
        "\r\n",
        "print(output)"
      ],
      "outputs": [],
      "execution_count": null,
      "metadata": {
        "collapsed": true,
        "jupyter": {
          "source_hidden": false,
          "outputs_hidden": false
        },
        "nteract": {
          "transient": {
            "deleting": false
          }
        },
        "gather": {
          "logged": 1625390777754
        }
      }
    },
    {
      "cell_type": "code",
      "source": [
        "no_code_service.delete()"
      ],
      "outputs": [],
      "execution_count": null,
      "metadata": {
        "collapsed": true,
        "jupyter": {
          "source_hidden": false,
          "outputs_hidden": false
        },
        "nteract": {
          "transient": {
            "deleting": false
          }
        },
        "gather": {
          "logged": 1625390787037
        }
      }
    },
    {
      "cell_type": "markdown",
      "source": [
        "### Understanding the model deployment options"
      ],
      "metadata": {
        "nteract": {
          "transient": {
            "deleting": false
          }
        }
      }
    },
    {
      "cell_type": "code",
      "source": [
        "from azureml.core import Environment\r\n",
        "from azureml.core.conda_dependencies import CondaDependencies \r\n",
        "import sklearn\r\n",
        "\r\n",
        "myEnv= Environment(name=\"sklearn-inference\")\r\n",
        "myEnv.python.conda_dependencies = CondaDependencies()\r\n",
        "myEnv.python.conda_dependencies.add_conda_package(f\"scikit-learn=={sklearn.__version__}\")\r\n",
        "myEnv.python.conda_dependencies.add_pip_package(\"azureml-defaults>=1.0.45\")"
      ],
      "outputs": [],
      "execution_count": null,
      "metadata": {
        "collapsed": true,
        "jupyter": {
          "source_hidden": false,
          "outputs_hidden": false
        },
        "nteract": {
          "transient": {
            "deleting": false
          }
        },
        "gather": {
          "logged": 1625420698098
        }
      }
    },
    {
      "cell_type": "code",
      "source": [
        "from azureml.core.model import InferenceConfig\r\n",
        "\r\n",
        "inference_config = InferenceConfig(source_directory= \"./script\",\r\n",
        "                      entry_script='score.py', environment=myEnv)"
      ],
      "outputs": [],
      "execution_count": null,
      "metadata": {
        "collapsed": true,
        "jupyter": {
          "source_hidden": false,
          "outputs_hidden": false
        },
        "nteract": {
          "transient": {
            "deleting": false
          }
        },
        "gather": {
          "logged": 1625403637947
        }
      }
    },
    {
      "cell_type": "code",
      "source": [
        "from azureml.core.webservice import AciWebservice\r\n",
        "\r\n",
        "deployment_config = AciWebservice.deploy_configuration(cpu_cores=1, memory_gb=1)\r\n",
        "\r\n",
        "service = Model.deploy(ws, \"aci-loans\", [model], inference_config, deployment_config)\r\n",
        "\r\n",
        "service.wait_for_deployment(show_output=True)"
      ],
      "outputs": [],
      "execution_count": null,
      "metadata": {
        "collapsed": true,
        "jupyter": {
          "source_hidden": false,
          "outputs_hidden": false
        },
        "nteract": {
          "transient": {
            "deleting": false
          }
        },
        "gather": {
          "logged": 1625392538260
        }
      }
    },
    {
      "cell_type": "code",
      "source": [
        "service.delete()"
      ],
      "outputs": [],
      "execution_count": null,
      "metadata": {
        "collapsed": true,
        "jupyter": {
          "source_hidden": false,
          "outputs_hidden": false
        },
        "nteract": {
          "transient": {
            "deleting": false
          }
        },
        "gather": {
          "logged": 1625393140128
        }
      }
    },
    {
      "cell_type": "code",
      "source": [
        "from azureml.core.webservice import LocalWebservice\r\n",
        "\r\n",
        "deployment_config = LocalWebservice.deploy_configuration(port=1337)\r\n",
        "\r\n",
        "service = Model.deploy(ws, \"local-loans\", [model], inference_config, deployment_config)\r\n",
        "\r\n",
        "service.wait_for_deployment()\r\n",
        "print(\"If you are running this notebook in a compute instance, visit the\")\r\n",
        "print(\"endpoint at https://compute-instance-name-1337.region.instances.azureml.ms/\")"
      ],
      "outputs": [],
      "execution_count": null,
      "metadata": {
        "collapsed": true,
        "jupyter": {
          "source_hidden": false,
          "outputs_hidden": false
        },
        "nteract": {
          "transient": {
            "deleting": false
          }
        },
        "gather": {
          "logged": 1625342322939
        }
      }
    },
    {
      "cell_type": "code",
      "source": [
        "service.delete()"
      ],
      "outputs": [],
      "execution_count": null,
      "metadata": {
        "collapsed": true,
        "jupyter": {
          "source_hidden": false,
          "outputs_hidden": false
        },
        "nteract": {
          "transient": {
            "deleting": false
          }
        },
        "gather": {
          "logged": 1625394197214
        }
      }
    },
    {
      "cell_type": "markdown",
      "source": [
        "### Profiling the model resource requirements"
      ],
      "metadata": {
        "nteract": {
          "transient": {
            "deleting": false
          }
        }
      }
    },
    {
      "cell_type": "code",
      "source": [
        "loans_ds = ws.datasets['loans']\r\n",
        "prof_df = loans_ds.drop_columns('approved_loan') \\\r\n",
        "                        .to_pandas_dataframe()\r\n",
        "\r\n",
        "prof_df['sample_request'] = \\\r\n",
        "    \"{'data':[[\" + prof_df['income'].map(str) \\\r\n",
        "  + \",\"+ prof_df['credit_cards'].map(str) \\\r\n",
        "  + \",\" + prof_df['age'].map(str) + \"]]}\"\r\n",
        "\r\n",
        "prof_df = prof_df[['sample_request']]\r\n",
        "prof_df.head()"
      ],
      "outputs": [],
      "execution_count": null,
      "metadata": {
        "collapsed": true,
        "jupyter": {
          "source_hidden": false,
          "outputs_hidden": false
        },
        "nteract": {
          "transient": {
            "deleting": false
          }
        },
        "gather": {
          "logged": 1625351698062
        }
      }
    },
    {
      "cell_type": "code",
      "source": [
        "from azureml.core import Dataset\r\n",
        "\r\n",
        "dstore = ws.get_default_datastore()\r\n",
        "loan_req_ds = Dataset.Tabular.register_pandas_dataframe(\r\n",
        "    dataframe=prof_df,\r\n",
        "    target=(dstore,\"/samples/loans-requests\"),\r\n",
        "    name=\"loans-requests\",\r\n",
        "    description=\"Sample requests for the loans model\")"
      ],
      "outputs": [],
      "execution_count": null,
      "metadata": {
        "collapsed": true,
        "jupyter": {
          "source_hidden": false,
          "outputs_hidden": false
        },
        "nteract": {
          "transient": {
            "deleting": false
          }
        },
        "gather": {
          "logged": 1625351702262
        }
      }
    },
    {
      "cell_type": "code",
      "source": [
        "profile = Model.profile(ws,\r\n",
        "            'chapter12-loan',\r\n",
        "            [model],\r\n",
        "            inference_config,\r\n",
        "            input_dataset=loan_req_ds,\r\n",
        "            cpu=2,\r\n",
        "            memory_in_gb=1)\r\n",
        "profile.wait_for_completion(True)\r\n",
        "print(profile.get_details())"
      ],
      "outputs": [],
      "execution_count": null,
      "metadata": {
        "collapsed": true,
        "jupyter": {
          "source_hidden": false,
          "outputs_hidden": false
        },
        "nteract": {
          "transient": {
            "deleting": false
          }
        },
        "gather": {
          "logged": 1625353070542
        }
      }
    },
    {
      "cell_type": "markdown",
      "source": [
        "### Monitoring with Application insights"
      ],
      "metadata": {
        "nteract": {
          "transient": {
            "deleting": false
          }
        }
      }
    },
    {
      "cell_type": "code",
      "source": [
        "from azureml.core.webservice import AciWebservice\r\n",
        "\r\n",
        "deployment_config = AciWebservice.deploy_configuration(cpu_cores=1, memory_gb=0.5, enable_app_insights= True)\r\n",
        "\r\n",
        "service = Model.deploy(ws, \"aci-loans\", [model], inference_config, deployment_config)\r\n",
        "\r\n",
        "service.wait_for_deployment(show_output=True)"
      ],
      "outputs": [],
      "execution_count": null,
      "metadata": {
        "collapsed": true,
        "jupyter": {
          "source_hidden": false,
          "outputs_hidden": false
        },
        "nteract": {
          "transient": {
            "deleting": false
          }
        },
        "gather": {
          "logged": 1625394698764
        }
      }
    },
    {
      "cell_type": "code",
      "source": [
        "service.update(enable_app_insights=True)"
      ],
      "outputs": [],
      "execution_count": null,
      "metadata": {
        "collapsed": true,
        "jupyter": {
          "source_hidden": false,
          "outputs_hidden": false
        },
        "nteract": {
          "transient": {
            "deleting": false
          }
        },
        "gather": {
          "logged": 1625394700639
        }
      }
    },
    {
      "cell_type": "code",
      "source": [
        "import json\r\n",
        "\r\n",
        "input_payload = json.dumps({\r\n",
        "    'data': [\r\n",
        "        [2000, 2, 45],\r\n",
        "        [2000, 9, 45]\r\n",
        "    ]\r\n",
        "})\r\n",
        "\r\n",
        "for x in range(10):\r\n",
        "   print(service.run(input_payload))"
      ],
      "outputs": [],
      "execution_count": null,
      "metadata": {
        "collapsed": true,
        "jupyter": {
          "source_hidden": false,
          "outputs_hidden": false
        },
        "nteract": {
          "transient": {
            "deleting": false
          }
        },
        "gather": {
          "logged": 1625405218489
        }
      }
    },
    {
      "cell_type": "code",
      "source": [
        "service.delete()"
      ],
      "outputs": [],
      "execution_count": null,
      "metadata": {
        "collapsed": true,
        "jupyter": {
          "source_hidden": false,
          "outputs_hidden": false
        },
        "nteract": {
          "transient": {
            "deleting": false
          }
        },
        "gather": {
          "logged": 1625402308768
        }
      }
    },
    {
      "cell_type": "markdown",
      "source": [
        "### Integrating with third party applications"
      ],
      "metadata": {
        "nteract": {
          "transient": {
            "deleting": false
          }
        }
      }
    },
    {
      "cell_type": "code",
      "source": [
        "from azureml.core.model import InferenceConfig\r\n",
        "from azureml.core.webservice import AciWebservice\r\n",
        "\r\n",
        "myEnv.python.conda_dependencies.add_pip_package(\"inference_schema>=1.1.0\")\r\n",
        "inference_config = InferenceConfig(source_directory= \"./script\",\r\n",
        "                      entry_script='score_v2.py', environment=myEnv)\r\n",
        "deployment_config = AciWebservice.deploy_configuration(cpu_cores=1, memory_gb=0.5)\r\n",
        "service = Model.deploy(ws, \"aci-loans\", [model], inference_config, deployment_config)\r\n",
        "service.wait_for_deployment(show_output=True)"
      ],
      "outputs": [],
      "execution_count": null,
      "metadata": {
        "collapsed": true,
        "jupyter": {
          "source_hidden": false,
          "outputs_hidden": false
        },
        "nteract": {
          "transient": {
            "deleting": false
          }
        },
        "gather": {
          "logged": 1625403881814
        }
      }
    },
    {
      "cell_type": "code",
      "source": [
        "import json\r\n",
        "\r\n",
        "service = ws.webservices['aci-loans']\r\n",
        "\r\n",
        "input_payload = json.dumps({\r\n",
        "    \"data\":[\r\n",
        "        {\r\n",
        "            \"income\": 2000,\r\n",
        "            \"credit_cards\": 2,\r\n",
        "            \"age\": 45\r\n",
        "        },\r\n",
        "        {\r\n",
        "            \"income\": 2000,\r\n",
        "            \"credit_cards\": 9,\r\n",
        "            \"age\": 45\r\n",
        "        }\r\n",
        "    ]\r\n",
        "})\r\n",
        "print(service.run(input_payload))\r\n",
        "\r\n",
        "input_payload = json.dumps({\r\n",
        "    'data': [\r\n",
        "        [2000, 2, 45],\r\n",
        "        [2000, 9, 45]\r\n",
        "    ]\r\n",
        "})\r\n",
        "print(service.run(input_payload))"
      ],
      "outputs": [],
      "execution_count": null,
      "metadata": {
        "collapsed": true,
        "jupyter": {
          "source_hidden": false,
          "outputs_hidden": false
        },
        "nteract": {
          "transient": {
            "deleting": false
          }
        },
        "gather": {
          "logged": 1625405260224
        }
      }
    },
    {
      "cell_type": "code",
      "source": [
        "service.delete()"
      ],
      "outputs": [],
      "execution_count": null,
      "metadata": {
        "collapsed": true,
        "jupyter": {
          "source_hidden": false,
          "outputs_hidden": false
        },
        "nteract": {
          "transient": {
            "deleting": false
          }
        },
        "gather": {
          "logged": 1625405586684
        }
      }
    },
    {
      "cell_type": "markdown",
      "source": [
        "## Creating a batch inference pipeline"
      ],
      "metadata": {
        "nteract": {
          "transient": {
            "deleting": false
          }
        }
      }
    },
    {
      "cell_type": "code",
      "source": [
        "from azureml.core import Workspace\r\n",
        "\r\n",
        "ws = Workspace.from_config()\r\n",
        "loans_ds = ws.datasets['loans']\r\n",
        "compute_target = ws.compute_targets['cpu-sm-cluster']"
      ],
      "outputs": [],
      "execution_count": null,
      "metadata": {
        "collapsed": true,
        "jupyter": {
          "source_hidden": false,
          "outputs_hidden": false
        },
        "nteract": {
          "transient": {
            "deleting": false
          }
        },
        "gather": {
          "logged": 1625415699731
        }
      }
    },
    {
      "cell_type": "code",
      "source": [
        "from azureml.core import Dataset\r\n",
        "\r\n",
        "loans_df = loans_ds.drop_columns('approved_loan').to_pandas_dataframe()\r\n",
        "\r\n",
        "print(f\"Original DataFrame's size {loans_df.memory_usage(deep=True).sum()}\")\r\n",
        "\r\n",
        "for x in range(10):\r\n",
        "    loans_df = loans_df.append(loans_df)\r\n",
        "    \r\n",
        "print(f\"Expanded DataFrame's size {loans_df.memory_usage(deep=True).sum()}\")\r\n",
        "\r\n",
        "dstore = ws.get_default_datastore()\r\n",
        "pending_loans_ds = Dataset.Tabular.register_pandas_dataframe(\r\n",
        "    dataframe=loans_df,\r\n",
        "    target=(dstore,\"/samples/pending-loans\"),\r\n",
        "    name=\"pending-loans\",\r\n",
        "    description=\"Pending loans to be processed\")"
      ],
      "outputs": [],
      "execution_count": null,
      "metadata": {
        "collapsed": true,
        "jupyter": {
          "source_hidden": false,
          "outputs_hidden": false
        },
        "nteract": {
          "transient": {
            "deleting": false
          }
        },
        "gather": {
          "logged": 1625418265860
        }
      }
    },
    {
      "cell_type": "code",
      "source": [
        "from azureml.core import Environment\r\n",
        "from azureml.core.conda_dependencies import CondaDependencies \r\n",
        "import sklearn\r\n",
        "\r\n",
        "pEnv= Environment(name=\"sklearn-parallel\")\r\n",
        "pEnv.python.conda_dependencies = CondaDependencies()\r\n",
        "pEnv.python.conda_dependencies.add_conda_package(f\"scikit-learn=={sklearn.__version__}\")\r\n",
        "pEnv.python.conda_dependencies.add_pip_package(\"azureml-core\")\r\n",
        "pEnv.python.conda_dependencies.add_pip_package(\"azureml-dataset-runtime[pandas,fuse]\")"
      ],
      "outputs": [],
      "execution_count": null,
      "metadata": {
        "collapsed": true,
        "jupyter": {
          "source_hidden": false,
          "outputs_hidden": false
        },
        "nteract": {
          "transient": {
            "deleting": false
          }
        },
        "gather": {
          "logged": 1625415860839
        }
      }
    },
    {
      "cell_type": "code",
      "source": [
        "from azureml.pipeline.steps import ParallelRunConfig\r\n",
        "\r\n",
        "parallel_run_config = ParallelRunConfig(\r\n",
        "    source_directory='pipeline_step',\r\n",
        "    entry_script='tabular_batch.py',\r\n",
        "    mini_batch_size='100Kb',\r\n",
        "    error_threshold=-1,\r\n",
        "    output_action='append_row',\r\n",
        "    append_row_file_name=\"loans_outputs.txt\",\r\n",
        "    environment=pEnv,\r\n",
        "    compute_target=compute_target, \r\n",
        "    node_count=1,\r\n",
        "    process_count_per_node=2,\r\n",
        "    run_invocation_timeout=600\r\n",
        ")"
      ],
      "outputs": [],
      "execution_count": null,
      "metadata": {
        "collapsed": true,
        "jupyter": {
          "source_hidden": false,
          "outputs_hidden": false
        },
        "nteract": {
          "transient": {
            "deleting": false
          }
        },
        "gather": {
          "logged": 1625415869601
        }
      }
    },
    {
      "cell_type": "code",
      "source": [
        "from azureml.data import OutputFileDatasetConfig\r\n",
        "\r\n",
        "datastore = ws.get_default_datastore()\r\n",
        "step_output = OutputFileDatasetConfig(\r\n",
        "    name= \"results_store\",\r\n",
        "    destination=(datastore, '/inferences/loans/'))"
      ],
      "outputs": [],
      "execution_count": null,
      "metadata": {
        "collapsed": true,
        "jupyter": {
          "source_hidden": false,
          "outputs_hidden": false
        },
        "nteract": {
          "transient": {
            "deleting": false
          }
        },
        "gather": {
          "logged": 1625418860434
        }
      }
    },
    {
      "cell_type": "code",
      "source": [
        "from azureml.pipeline.steps import ParallelRunStep\r\n",
        "\r\n",
        "parallel_step = ParallelRunStep(\r\n",
        "    name='chapter12-parallel-loans',\r\n",
        "    inputs=[pending_loans_ds.as_named_input('loans')],\r\n",
        "    output=step_output,\r\n",
        "    parallel_run_config=parallel_run_config,\r\n",
        "    allow_reuse=False\r\n",
        ")"
      ],
      "outputs": [],
      "execution_count": null,
      "metadata": {
        "collapsed": true,
        "jupyter": {
          "source_hidden": false,
          "outputs_hidden": false
        },
        "nteract": {
          "transient": {
            "deleting": false
          }
        },
        "gather": {
          "logged": 1625418862727
        }
      }
    },
    {
      "cell_type": "code",
      "source": [
        "from azureml.core import Experiment\r\n",
        "from azureml.pipeline.core import Pipeline\r\n",
        "\r\n",
        "pipeline = Pipeline(workspace=ws, steps=[parallel_step])\r\n",
        "\r\n",
        "pipeline_run = Experiment(ws, 'chapter12-parallel-run').submit(pipeline)"
      ],
      "outputs": [],
      "execution_count": null,
      "metadata": {
        "collapsed": true,
        "jupyter": {
          "source_hidden": false,
          "outputs_hidden": false
        },
        "nteract": {
          "transient": {
            "deleting": false
          }
        },
        "gather": {
          "logged": 1625418870095
        }
      }
    },
    {
      "cell_type": "code",
      "source": [
        "from azureml.widgets import RunDetails\r\n",
        "\r\n",
        "RunDetails(pipeline_run).show()"
      ],
      "outputs": [],
      "execution_count": null,
      "metadata": {
        "collapsed": true,
        "jupyter": {
          "source_hidden": false,
          "outputs_hidden": false
        },
        "nteract": {
          "transient": {
            "deleting": false
          }
        },
        "gather": {
          "logged": 1625413055753
        }
      }
    },
    {
      "cell_type": "code",
      "source": [
        "pipeline_run.wait_for_completion(show_output=True)"
      ],
      "outputs": [],
      "execution_count": null,
      "metadata": {
        "collapsed": true,
        "jupyter": {
          "source_hidden": false,
          "outputs_hidden": false
        },
        "nteract": {
          "transient": {
            "deleting": false
          }
        }
      }
    }
  ],
  "metadata": {
    "kernelspec": {
      "name": "python3-azureml",
      "language": "python",
      "display_name": "Python 3.6 - AzureML"
    },
    "language_info": {
      "name": "python",
      "version": "3.6.9",
      "mimetype": "text/x-python",
      "codemirror_mode": {
        "name": "ipython",
        "version": 3
      },
      "pygments_lexer": "ipython3",
      "nbconvert_exporter": "python",
      "file_extension": ".py"
    },
    "kernel_info": {
      "name": "python3-azureml"
    },
    "microsoft": {
      "host": {
        "AzureML": {
          "notebookHasBeenCompleted": true
        }
      }
    },
    "nteract": {
      "version": "nteract-front-end@1.0.0"
    }
  },
  "nbformat": 4,
  "nbformat_minor": 2
}